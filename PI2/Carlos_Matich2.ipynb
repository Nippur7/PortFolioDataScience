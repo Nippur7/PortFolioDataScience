{
 "cells": [
  {
   "cell_type": "code",
   "execution_count": 2,
   "metadata": {},
   "outputs": [],
   "source": [
    "from datetime import datetime\n",
    "import pandas as pd\n",
    "from sodapy import Socrata\n",
    "import seaborn as sns\n",
    "import matplotlib.pyplot as plt"
   ]
  },
  {
   "cell_type": "code",
   "execution_count": 3,
   "metadata": {},
   "outputs": [
    {
     "name": "stderr",
     "output_type": "stream",
     "text": [
      "WARNING:root:Requests made without an app_token will be subject to strict throttling limits.\n"
     ]
    },
    {
     "ename": "ReadTimeout",
     "evalue": "HTTPSConnectionPool(host='healthdata.gov', port=443): Read timed out. (read timeout=10)",
     "output_type": "error",
     "traceback": [
      "\u001b[1;31m---------------------------------------------------------------------------\u001b[0m",
      "\u001b[1;31mtimeout\u001b[0m                                   Traceback (most recent call last)",
      "File \u001b[1;32mc:\\Python39\\lib\\site-packages\\urllib3\\connectionpool.py:386\u001b[0m, in \u001b[0;36mHTTPConnectionPool._make_request\u001b[1;34m(self, conn, method, url, timeout, chunked, **httplib_request_kw)\u001b[0m\n\u001b[0;32m    385\u001b[0m \u001b[39mtry\u001b[39;00m:\n\u001b[1;32m--> 386\u001b[0m     \u001b[39mself\u001b[39;49m\u001b[39m.\u001b[39;49m_validate_conn(conn)\n\u001b[0;32m    387\u001b[0m \u001b[39mexcept\u001b[39;00m (SocketTimeout, BaseSSLError) \u001b[39mas\u001b[39;00m e:\n\u001b[0;32m    388\u001b[0m     \u001b[39m# Py2 raises this as a BaseSSLError, Py3 raises it as socket timeout.\u001b[39;00m\n",
      "File \u001b[1;32mc:\\Python39\\lib\\site-packages\\urllib3\\connectionpool.py:1040\u001b[0m, in \u001b[0;36mHTTPSConnectionPool._validate_conn\u001b[1;34m(self, conn)\u001b[0m\n\u001b[0;32m   1039\u001b[0m \u001b[39mif\u001b[39;00m \u001b[39mnot\u001b[39;00m \u001b[39mgetattr\u001b[39m(conn, \u001b[39m\"\u001b[39m\u001b[39msock\u001b[39m\u001b[39m\"\u001b[39m, \u001b[39mNone\u001b[39;00m):  \u001b[39m# AppEngine might not have  `.sock`\u001b[39;00m\n\u001b[1;32m-> 1040\u001b[0m     conn\u001b[39m.\u001b[39;49mconnect()\n\u001b[0;32m   1042\u001b[0m \u001b[39mif\u001b[39;00m \u001b[39mnot\u001b[39;00m conn\u001b[39m.\u001b[39mis_verified:\n",
      "File \u001b[1;32mc:\\Python39\\lib\\site-packages\\urllib3\\connection.py:414\u001b[0m, in \u001b[0;36mHTTPSConnection.connect\u001b[1;34m(self)\u001b[0m\n\u001b[0;32m    412\u001b[0m     context\u001b[39m.\u001b[39mload_default_certs()\n\u001b[1;32m--> 414\u001b[0m \u001b[39mself\u001b[39m\u001b[39m.\u001b[39msock \u001b[39m=\u001b[39m ssl_wrap_socket(\n\u001b[0;32m    415\u001b[0m     sock\u001b[39m=\u001b[39;49mconn,\n\u001b[0;32m    416\u001b[0m     keyfile\u001b[39m=\u001b[39;49m\u001b[39mself\u001b[39;49m\u001b[39m.\u001b[39;49mkey_file,\n\u001b[0;32m    417\u001b[0m     certfile\u001b[39m=\u001b[39;49m\u001b[39mself\u001b[39;49m\u001b[39m.\u001b[39;49mcert_file,\n\u001b[0;32m    418\u001b[0m     key_password\u001b[39m=\u001b[39;49m\u001b[39mself\u001b[39;49m\u001b[39m.\u001b[39;49mkey_password,\n\u001b[0;32m    419\u001b[0m     ca_certs\u001b[39m=\u001b[39;49m\u001b[39mself\u001b[39;49m\u001b[39m.\u001b[39;49mca_certs,\n\u001b[0;32m    420\u001b[0m     ca_cert_dir\u001b[39m=\u001b[39;49m\u001b[39mself\u001b[39;49m\u001b[39m.\u001b[39;49mca_cert_dir,\n\u001b[0;32m    421\u001b[0m     ca_cert_data\u001b[39m=\u001b[39;49m\u001b[39mself\u001b[39;49m\u001b[39m.\u001b[39;49mca_cert_data,\n\u001b[0;32m    422\u001b[0m     server_hostname\u001b[39m=\u001b[39;49mserver_hostname,\n\u001b[0;32m    423\u001b[0m     ssl_context\u001b[39m=\u001b[39;49mcontext,\n\u001b[0;32m    424\u001b[0m     tls_in_tls\u001b[39m=\u001b[39;49mtls_in_tls,\n\u001b[0;32m    425\u001b[0m )\n\u001b[0;32m    427\u001b[0m \u001b[39m# If we're using all defaults and the connection\u001b[39;00m\n\u001b[0;32m    428\u001b[0m \u001b[39m# is TLSv1 or TLSv1.1 we throw a DeprecationWarning\u001b[39;00m\n\u001b[0;32m    429\u001b[0m \u001b[39m# for the host.\u001b[39;00m\n",
      "File \u001b[1;32mc:\\Python39\\lib\\site-packages\\urllib3\\util\\ssl_.py:449\u001b[0m, in \u001b[0;36mssl_wrap_socket\u001b[1;34m(sock, keyfile, certfile, cert_reqs, ca_certs, server_hostname, ssl_version, ciphers, ssl_context, ca_cert_dir, key_password, ca_cert_data, tls_in_tls)\u001b[0m\n\u001b[0;32m    448\u001b[0m \u001b[39mif\u001b[39;00m send_sni:\n\u001b[1;32m--> 449\u001b[0m     ssl_sock \u001b[39m=\u001b[39m _ssl_wrap_socket_impl(\n\u001b[0;32m    450\u001b[0m         sock, context, tls_in_tls, server_hostname\u001b[39m=\u001b[39;49mserver_hostname\n\u001b[0;32m    451\u001b[0m     )\n\u001b[0;32m    452\u001b[0m \u001b[39melse\u001b[39;00m:\n",
      "File \u001b[1;32mc:\\Python39\\lib\\site-packages\\urllib3\\util\\ssl_.py:493\u001b[0m, in \u001b[0;36m_ssl_wrap_socket_impl\u001b[1;34m(sock, ssl_context, tls_in_tls, server_hostname)\u001b[0m\n\u001b[0;32m    492\u001b[0m \u001b[39mif\u001b[39;00m server_hostname:\n\u001b[1;32m--> 493\u001b[0m     \u001b[39mreturn\u001b[39;00m ssl_context\u001b[39m.\u001b[39;49mwrap_socket(sock, server_hostname\u001b[39m=\u001b[39;49mserver_hostname)\n\u001b[0;32m    494\u001b[0m \u001b[39melse\u001b[39;00m:\n",
      "File \u001b[1;32mc:\\Python39\\lib\\ssl.py:500\u001b[0m, in \u001b[0;36mSSLContext.wrap_socket\u001b[1;34m(self, sock, server_side, do_handshake_on_connect, suppress_ragged_eofs, server_hostname, session)\u001b[0m\n\u001b[0;32m    494\u001b[0m \u001b[39mdef\u001b[39;00m \u001b[39mwrap_socket\u001b[39m(\u001b[39mself\u001b[39m, sock, server_side\u001b[39m=\u001b[39m\u001b[39mFalse\u001b[39;00m,\n\u001b[0;32m    495\u001b[0m                 do_handshake_on_connect\u001b[39m=\u001b[39m\u001b[39mTrue\u001b[39;00m,\n\u001b[0;32m    496\u001b[0m                 suppress_ragged_eofs\u001b[39m=\u001b[39m\u001b[39mTrue\u001b[39;00m,\n\u001b[0;32m    497\u001b[0m                 server_hostname\u001b[39m=\u001b[39m\u001b[39mNone\u001b[39;00m, session\u001b[39m=\u001b[39m\u001b[39mNone\u001b[39;00m):\n\u001b[0;32m    498\u001b[0m     \u001b[39m# SSLSocket class handles server_hostname encoding before it calls\u001b[39;00m\n\u001b[0;32m    499\u001b[0m     \u001b[39m# ctx._wrap_socket()\u001b[39;00m\n\u001b[1;32m--> 500\u001b[0m     \u001b[39mreturn\u001b[39;00m \u001b[39mself\u001b[39;49m\u001b[39m.\u001b[39;49msslsocket_class\u001b[39m.\u001b[39;49m_create(\n\u001b[0;32m    501\u001b[0m         sock\u001b[39m=\u001b[39;49msock,\n\u001b[0;32m    502\u001b[0m         server_side\u001b[39m=\u001b[39;49mserver_side,\n\u001b[0;32m    503\u001b[0m         do_handshake_on_connect\u001b[39m=\u001b[39;49mdo_handshake_on_connect,\n\u001b[0;32m    504\u001b[0m         suppress_ragged_eofs\u001b[39m=\u001b[39;49msuppress_ragged_eofs,\n\u001b[0;32m    505\u001b[0m         server_hostname\u001b[39m=\u001b[39;49mserver_hostname,\n\u001b[0;32m    506\u001b[0m         context\u001b[39m=\u001b[39;49m\u001b[39mself\u001b[39;49m,\n\u001b[0;32m    507\u001b[0m         session\u001b[39m=\u001b[39;49msession\n\u001b[0;32m    508\u001b[0m     )\n",
      "File \u001b[1;32mc:\\Python39\\lib\\ssl.py:1040\u001b[0m, in \u001b[0;36mSSLSocket._create\u001b[1;34m(cls, sock, server_side, do_handshake_on_connect, suppress_ragged_eofs, server_hostname, context, session)\u001b[0m\n\u001b[0;32m   1039\u001b[0m             \u001b[39mraise\u001b[39;00m \u001b[39mValueError\u001b[39;00m(\u001b[39m\"\u001b[39m\u001b[39mdo_handshake_on_connect should not be specified for non-blocking sockets\u001b[39m\u001b[39m\"\u001b[39m)\n\u001b[1;32m-> 1040\u001b[0m         \u001b[39mself\u001b[39;49m\u001b[39m.\u001b[39;49mdo_handshake()\n\u001b[0;32m   1041\u001b[0m \u001b[39mexcept\u001b[39;00m (\u001b[39mOSError\u001b[39;00m, \u001b[39mValueError\u001b[39;00m):\n",
      "File \u001b[1;32mc:\\Python39\\lib\\ssl.py:1309\u001b[0m, in \u001b[0;36mSSLSocket.do_handshake\u001b[1;34m(self, block)\u001b[0m\n\u001b[0;32m   1308\u001b[0m         \u001b[39mself\u001b[39m\u001b[39m.\u001b[39msettimeout(\u001b[39mNone\u001b[39;00m)\n\u001b[1;32m-> 1309\u001b[0m     \u001b[39mself\u001b[39;49m\u001b[39m.\u001b[39;49m_sslobj\u001b[39m.\u001b[39;49mdo_handshake()\n\u001b[0;32m   1310\u001b[0m \u001b[39mfinally\u001b[39;00m:\n",
      "\u001b[1;31mtimeout\u001b[0m: _ssl.c:1112: The handshake operation timed out",
      "\nDuring handling of the above exception, another exception occurred:\n",
      "\u001b[1;31mReadTimeoutError\u001b[0m                          Traceback (most recent call last)",
      "File \u001b[1;32mc:\\Python39\\lib\\site-packages\\requests\\adapters.py:489\u001b[0m, in \u001b[0;36mHTTPAdapter.send\u001b[1;34m(self, request, stream, timeout, verify, cert, proxies)\u001b[0m\n\u001b[0;32m    488\u001b[0m \u001b[39mif\u001b[39;00m \u001b[39mnot\u001b[39;00m chunked:\n\u001b[1;32m--> 489\u001b[0m     resp \u001b[39m=\u001b[39m conn\u001b[39m.\u001b[39;49murlopen(\n\u001b[0;32m    490\u001b[0m         method\u001b[39m=\u001b[39;49mrequest\u001b[39m.\u001b[39;49mmethod,\n\u001b[0;32m    491\u001b[0m         url\u001b[39m=\u001b[39;49murl,\n\u001b[0;32m    492\u001b[0m         body\u001b[39m=\u001b[39;49mrequest\u001b[39m.\u001b[39;49mbody,\n\u001b[0;32m    493\u001b[0m         headers\u001b[39m=\u001b[39;49mrequest\u001b[39m.\u001b[39;49mheaders,\n\u001b[0;32m    494\u001b[0m         redirect\u001b[39m=\u001b[39;49m\u001b[39mFalse\u001b[39;49;00m,\n\u001b[0;32m    495\u001b[0m         assert_same_host\u001b[39m=\u001b[39;49m\u001b[39mFalse\u001b[39;49;00m,\n\u001b[0;32m    496\u001b[0m         preload_content\u001b[39m=\u001b[39;49m\u001b[39mFalse\u001b[39;49;00m,\n\u001b[0;32m    497\u001b[0m         decode_content\u001b[39m=\u001b[39;49m\u001b[39mFalse\u001b[39;49;00m,\n\u001b[0;32m    498\u001b[0m         retries\u001b[39m=\u001b[39;49m\u001b[39mself\u001b[39;49m\u001b[39m.\u001b[39;49mmax_retries,\n\u001b[0;32m    499\u001b[0m         timeout\u001b[39m=\u001b[39;49mtimeout,\n\u001b[0;32m    500\u001b[0m     )\n\u001b[0;32m    502\u001b[0m \u001b[39m# Send the request.\u001b[39;00m\n\u001b[0;32m    503\u001b[0m \u001b[39melse\u001b[39;00m:\n",
      "File \u001b[1;32mc:\\Python39\\lib\\site-packages\\urllib3\\connectionpool.py:785\u001b[0m, in \u001b[0;36mHTTPConnectionPool.urlopen\u001b[1;34m(self, method, url, body, headers, retries, redirect, assert_same_host, timeout, pool_timeout, release_conn, chunked, body_pos, **response_kw)\u001b[0m\n\u001b[0;32m    783\u001b[0m     e \u001b[39m=\u001b[39m ProtocolError(\u001b[39m\"\u001b[39m\u001b[39mConnection aborted.\u001b[39m\u001b[39m\"\u001b[39m, e)\n\u001b[1;32m--> 785\u001b[0m retries \u001b[39m=\u001b[39m retries\u001b[39m.\u001b[39;49mincrement(\n\u001b[0;32m    786\u001b[0m     method, url, error\u001b[39m=\u001b[39;49me, _pool\u001b[39m=\u001b[39;49m\u001b[39mself\u001b[39;49m, _stacktrace\u001b[39m=\u001b[39;49msys\u001b[39m.\u001b[39;49mexc_info()[\u001b[39m2\u001b[39;49m]\n\u001b[0;32m    787\u001b[0m )\n\u001b[0;32m    788\u001b[0m retries\u001b[39m.\u001b[39msleep()\n",
      "File \u001b[1;32mc:\\Python39\\lib\\site-packages\\urllib3\\util\\retry.py:550\u001b[0m, in \u001b[0;36mRetry.increment\u001b[1;34m(self, method, url, response, error, _pool, _stacktrace)\u001b[0m\n\u001b[0;32m    549\u001b[0m \u001b[39mif\u001b[39;00m read \u001b[39mis\u001b[39;00m \u001b[39mFalse\u001b[39;00m \u001b[39mor\u001b[39;00m \u001b[39mnot\u001b[39;00m \u001b[39mself\u001b[39m\u001b[39m.\u001b[39m_is_method_retryable(method):\n\u001b[1;32m--> 550\u001b[0m     \u001b[39mraise\u001b[39;00m six\u001b[39m.\u001b[39;49mreraise(\u001b[39mtype\u001b[39;49m(error), error, _stacktrace)\n\u001b[0;32m    551\u001b[0m \u001b[39melif\u001b[39;00m read \u001b[39mis\u001b[39;00m \u001b[39mnot\u001b[39;00m \u001b[39mNone\u001b[39;00m:\n",
      "File \u001b[1;32mc:\\Python39\\lib\\site-packages\\urllib3\\packages\\six.py:770\u001b[0m, in \u001b[0;36mreraise\u001b[1;34m(tp, value, tb)\u001b[0m\n\u001b[0;32m    769\u001b[0m         \u001b[39mraise\u001b[39;00m value\u001b[39m.\u001b[39mwith_traceback(tb)\n\u001b[1;32m--> 770\u001b[0m     \u001b[39mraise\u001b[39;00m value\n\u001b[0;32m    771\u001b[0m \u001b[39mfinally\u001b[39;00m:\n",
      "File \u001b[1;32mc:\\Python39\\lib\\site-packages\\urllib3\\connectionpool.py:703\u001b[0m, in \u001b[0;36mHTTPConnectionPool.urlopen\u001b[1;34m(self, method, url, body, headers, retries, redirect, assert_same_host, timeout, pool_timeout, release_conn, chunked, body_pos, **response_kw)\u001b[0m\n\u001b[0;32m    702\u001b[0m \u001b[39m# Make the request on the httplib connection object.\u001b[39;00m\n\u001b[1;32m--> 703\u001b[0m httplib_response \u001b[39m=\u001b[39m \u001b[39mself\u001b[39;49m\u001b[39m.\u001b[39;49m_make_request(\n\u001b[0;32m    704\u001b[0m     conn,\n\u001b[0;32m    705\u001b[0m     method,\n\u001b[0;32m    706\u001b[0m     url,\n\u001b[0;32m    707\u001b[0m     timeout\u001b[39m=\u001b[39;49mtimeout_obj,\n\u001b[0;32m    708\u001b[0m     body\u001b[39m=\u001b[39;49mbody,\n\u001b[0;32m    709\u001b[0m     headers\u001b[39m=\u001b[39;49mheaders,\n\u001b[0;32m    710\u001b[0m     chunked\u001b[39m=\u001b[39;49mchunked,\n\u001b[0;32m    711\u001b[0m )\n\u001b[0;32m    713\u001b[0m \u001b[39m# If we're going to release the connection in ``finally:``, then\u001b[39;00m\n\u001b[0;32m    714\u001b[0m \u001b[39m# the response doesn't need to know about the connection. Otherwise\u001b[39;00m\n\u001b[0;32m    715\u001b[0m \u001b[39m# it will also try to release it and we'll have a double-release\u001b[39;00m\n\u001b[0;32m    716\u001b[0m \u001b[39m# mess.\u001b[39;00m\n",
      "File \u001b[1;32mc:\\Python39\\lib\\site-packages\\urllib3\\connectionpool.py:389\u001b[0m, in \u001b[0;36mHTTPConnectionPool._make_request\u001b[1;34m(self, conn, method, url, timeout, chunked, **httplib_request_kw)\u001b[0m\n\u001b[0;32m    387\u001b[0m \u001b[39mexcept\u001b[39;00m (SocketTimeout, BaseSSLError) \u001b[39mas\u001b[39;00m e:\n\u001b[0;32m    388\u001b[0m     \u001b[39m# Py2 raises this as a BaseSSLError, Py3 raises it as socket timeout.\u001b[39;00m\n\u001b[1;32m--> 389\u001b[0m     \u001b[39mself\u001b[39;49m\u001b[39m.\u001b[39;49m_raise_timeout(err\u001b[39m=\u001b[39;49me, url\u001b[39m=\u001b[39;49murl, timeout_value\u001b[39m=\u001b[39;49mconn\u001b[39m.\u001b[39;49mtimeout)\n\u001b[0;32m    390\u001b[0m     \u001b[39mraise\u001b[39;00m\n",
      "File \u001b[1;32mc:\\Python39\\lib\\site-packages\\urllib3\\connectionpool.py:340\u001b[0m, in \u001b[0;36mHTTPConnectionPool._raise_timeout\u001b[1;34m(self, err, url, timeout_value)\u001b[0m\n\u001b[0;32m    339\u001b[0m \u001b[39mif\u001b[39;00m \u001b[39misinstance\u001b[39m(err, SocketTimeout):\n\u001b[1;32m--> 340\u001b[0m     \u001b[39mraise\u001b[39;00m ReadTimeoutError(\n\u001b[0;32m    341\u001b[0m         \u001b[39mself\u001b[39m, url, \u001b[39m\"\u001b[39m\u001b[39mRead timed out. (read timeout=\u001b[39m\u001b[39m%s\u001b[39;00m\u001b[39m)\u001b[39m\u001b[39m\"\u001b[39m \u001b[39m%\u001b[39m timeout_value\n\u001b[0;32m    342\u001b[0m     )\n\u001b[0;32m    344\u001b[0m \u001b[39m# See the above comment about EAGAIN in Python 3. In Python 2 we have\u001b[39;00m\n\u001b[0;32m    345\u001b[0m \u001b[39m# to specifically catch it and throw the timeout error\u001b[39;00m\n",
      "\u001b[1;31mReadTimeoutError\u001b[0m: HTTPSConnectionPool(host='healthdata.gov', port=443): Read timed out. (read timeout=10)",
      "\nDuring handling of the above exception, another exception occurred:\n",
      "\u001b[1;31mReadTimeout\u001b[0m                               Traceback (most recent call last)",
      "\u001b[1;32mc:\\Users\\tonym\\OneDrive\\Documentos\\Henry\\Data Science\\PI2\\Carlos_Matich2.ipynb Celda 2\u001b[0m in \u001b[0;36m<cell line: 13>\u001b[1;34m()\u001b[0m\n\u001b[0;32m      <a href='vscode-notebook-cell:/c%3A/Users/tonym/OneDrive/Documentos/Henry/Data%20Science/PI2/Carlos_Matich2.ipynb#W1sZmlsZQ%3D%3D?line=2'>3</a>\u001b[0m client \u001b[39m=\u001b[39m Socrata(\u001b[39m\"\u001b[39m\u001b[39mhealthdata.gov\u001b[39m\u001b[39m\"\u001b[39m, \u001b[39mNone\u001b[39;00m)\n\u001b[0;32m      <a href='vscode-notebook-cell:/c%3A/Users/tonym/OneDrive/Documentos/Henry/Data%20Science/PI2/Carlos_Matich2.ipynb#W1sZmlsZQ%3D%3D?line=4'>5</a>\u001b[0m \u001b[39m# Example authenticated client (needed for non-public datasets):\u001b[39;00m\n\u001b[0;32m      <a href='vscode-notebook-cell:/c%3A/Users/tonym/OneDrive/Documentos/Henry/Data%20Science/PI2/Carlos_Matich2.ipynb#W1sZmlsZQ%3D%3D?line=5'>6</a>\u001b[0m \u001b[39m# client = Socrata(healthdata.gov,\u001b[39;00m\n\u001b[0;32m      <a href='vscode-notebook-cell:/c%3A/Users/tonym/OneDrive/Documentos/Henry/Data%20Science/PI2/Carlos_Matich2.ipynb#W1sZmlsZQ%3D%3D?line=6'>7</a>\u001b[0m \u001b[39m#                  MyAppToken,\u001b[39;00m\n\u001b[1;32m   (...)\u001b[0m\n\u001b[0;32m     <a href='vscode-notebook-cell:/c%3A/Users/tonym/OneDrive/Documentos/Henry/Data%20Science/PI2/Carlos_Matich2.ipynb#W1sZmlsZQ%3D%3D?line=10'>11</a>\u001b[0m \u001b[39m# First 2000 results, returned as JSON from API / converted to Python list of\u001b[39;00m\n\u001b[0;32m     <a href='vscode-notebook-cell:/c%3A/Users/tonym/OneDrive/Documentos/Henry/Data%20Science/PI2/Carlos_Matich2.ipynb#W1sZmlsZQ%3D%3D?line=11'>12</a>\u001b[0m \u001b[39m# dictionaries by sodapy.\u001b[39;00m\n\u001b[1;32m---> <a href='vscode-notebook-cell:/c%3A/Users/tonym/OneDrive/Documentos/Henry/Data%20Science/PI2/Carlos_Matich2.ipynb#W1sZmlsZQ%3D%3D?line=12'>13</a>\u001b[0m results \u001b[39m=\u001b[39m client\u001b[39m.\u001b[39;49mget(\u001b[39m\"\u001b[39;49m\u001b[39mg62h-syeh\u001b[39;49m\u001b[39m\"\u001b[39;49m, limit\u001b[39m=\u001b[39;49m\u001b[39m50000\u001b[39;49m)\n\u001b[0;32m     <a href='vscode-notebook-cell:/c%3A/Users/tonym/OneDrive/Documentos/Henry/Data%20Science/PI2/Carlos_Matich2.ipynb#W1sZmlsZQ%3D%3D?line=14'>15</a>\u001b[0m \u001b[39m# Convert to pandas DataFrame\u001b[39;00m\n\u001b[0;32m     <a href='vscode-notebook-cell:/c%3A/Users/tonym/OneDrive/Documentos/Henry/Data%20Science/PI2/Carlos_Matich2.ipynb#W1sZmlsZQ%3D%3D?line=15'>16</a>\u001b[0m results_df \u001b[39m=\u001b[39m pd\u001b[39m.\u001b[39mDataFrame\u001b[39m.\u001b[39mfrom_records(results)\n",
      "File \u001b[1;32mc:\\Python39\\lib\\site-packages\\sodapy\\socrata.py:412\u001b[0m, in \u001b[0;36mSocrata.get\u001b[1;34m(self, dataset_identifier, content_type, **kwargs)\u001b[0m\n\u001b[0;32m    409\u001b[0m params\u001b[39m.\u001b[39mupdate(kwargs)\n\u001b[0;32m    410\u001b[0m params \u001b[39m=\u001b[39m utils\u001b[39m.\u001b[39mclear_empty_values(params)\n\u001b[1;32m--> 412\u001b[0m response \u001b[39m=\u001b[39m \u001b[39mself\u001b[39;49m\u001b[39m.\u001b[39;49m_perform_request(\n\u001b[0;32m    413\u001b[0m     \u001b[39m\"\u001b[39;49m\u001b[39mget\u001b[39;49m\u001b[39m\"\u001b[39;49m, resource, headers\u001b[39m=\u001b[39;49mheaders, params\u001b[39m=\u001b[39;49mparams\n\u001b[0;32m    414\u001b[0m )\n\u001b[0;32m    415\u001b[0m \u001b[39mreturn\u001b[39;00m response\n",
      "File \u001b[1;32mc:\\Python39\\lib\\site-packages\\sodapy\\socrata.py:551\u001b[0m, in \u001b[0;36mSocrata._perform_request\u001b[1;34m(self, request_type, resource, **kwargs)\u001b[0m\n\u001b[0;32m    548\u001b[0m \u001b[39m# set a timeout, just to be safe\u001b[39;00m\n\u001b[0;32m    549\u001b[0m kwargs[\u001b[39m\"\u001b[39m\u001b[39mtimeout\u001b[39m\u001b[39m\"\u001b[39m] \u001b[39m=\u001b[39m \u001b[39mself\u001b[39m\u001b[39m.\u001b[39mtimeout\n\u001b[1;32m--> 551\u001b[0m response \u001b[39m=\u001b[39m \u001b[39mgetattr\u001b[39m(\u001b[39mself\u001b[39m\u001b[39m.\u001b[39msession, request_type)(uri, \u001b[39m*\u001b[39m\u001b[39m*\u001b[39mkwargs)\n\u001b[0;32m    553\u001b[0m \u001b[39m# handle errors\u001b[39;00m\n\u001b[0;32m    554\u001b[0m \u001b[39mif\u001b[39;00m response\u001b[39m.\u001b[39mstatus_code \u001b[39mnot\u001b[39;00m \u001b[39min\u001b[39;00m (\u001b[39m200\u001b[39m, \u001b[39m202\u001b[39m):\n",
      "File \u001b[1;32mc:\\Python39\\lib\\site-packages\\requests\\sessions.py:600\u001b[0m, in \u001b[0;36mSession.get\u001b[1;34m(self, url, **kwargs)\u001b[0m\n\u001b[0;32m    592\u001b[0m \u001b[39mr\u001b[39m\u001b[39m\"\"\"Sends a GET request. Returns :class:`Response` object.\u001b[39;00m\n\u001b[0;32m    593\u001b[0m \n\u001b[0;32m    594\u001b[0m \u001b[39m:param url: URL for the new :class:`Request` object.\u001b[39;00m\n\u001b[0;32m    595\u001b[0m \u001b[39m:param \\*\\*kwargs: Optional arguments that ``request`` takes.\u001b[39;00m\n\u001b[0;32m    596\u001b[0m \u001b[39m:rtype: requests.Response\u001b[39;00m\n\u001b[0;32m    597\u001b[0m \u001b[39m\"\"\"\u001b[39;00m\n\u001b[0;32m    599\u001b[0m kwargs\u001b[39m.\u001b[39msetdefault(\u001b[39m\"\u001b[39m\u001b[39mallow_redirects\u001b[39m\u001b[39m\"\u001b[39m, \u001b[39mTrue\u001b[39;00m)\n\u001b[1;32m--> 600\u001b[0m \u001b[39mreturn\u001b[39;00m \u001b[39mself\u001b[39m\u001b[39m.\u001b[39mrequest(\u001b[39m\"\u001b[39m\u001b[39mGET\u001b[39m\u001b[39m\"\u001b[39m, url, \u001b[39m*\u001b[39m\u001b[39m*\u001b[39mkwargs)\n",
      "File \u001b[1;32mc:\\Python39\\lib\\site-packages\\requests\\sessions.py:587\u001b[0m, in \u001b[0;36mSession.request\u001b[1;34m(self, method, url, params, data, headers, cookies, files, auth, timeout, allow_redirects, proxies, hooks, stream, verify, cert, json)\u001b[0m\n\u001b[0;32m    582\u001b[0m send_kwargs \u001b[39m=\u001b[39m {\n\u001b[0;32m    583\u001b[0m     \u001b[39m\"\u001b[39m\u001b[39mtimeout\u001b[39m\u001b[39m\"\u001b[39m: timeout,\n\u001b[0;32m    584\u001b[0m     \u001b[39m\"\u001b[39m\u001b[39mallow_redirects\u001b[39m\u001b[39m\"\u001b[39m: allow_redirects,\n\u001b[0;32m    585\u001b[0m }\n\u001b[0;32m    586\u001b[0m send_kwargs\u001b[39m.\u001b[39mupdate(settings)\n\u001b[1;32m--> 587\u001b[0m resp \u001b[39m=\u001b[39m \u001b[39mself\u001b[39m\u001b[39m.\u001b[39msend(prep, \u001b[39m*\u001b[39m\u001b[39m*\u001b[39msend_kwargs)\n\u001b[0;32m    589\u001b[0m \u001b[39mreturn\u001b[39;00m resp\n",
      "File \u001b[1;32mc:\\Python39\\lib\\site-packages\\requests\\sessions.py:701\u001b[0m, in \u001b[0;36mSession.send\u001b[1;34m(self, request, **kwargs)\u001b[0m\n\u001b[0;32m    698\u001b[0m start \u001b[39m=\u001b[39m preferred_clock()\n\u001b[0;32m    700\u001b[0m \u001b[39m# Send the request\u001b[39;00m\n\u001b[1;32m--> 701\u001b[0m r \u001b[39m=\u001b[39m adapter\u001b[39m.\u001b[39msend(request, \u001b[39m*\u001b[39m\u001b[39m*\u001b[39mkwargs)\n\u001b[0;32m    703\u001b[0m \u001b[39m# Total elapsed time of the request (approximately)\u001b[39;00m\n\u001b[0;32m    704\u001b[0m elapsed \u001b[39m=\u001b[39m preferred_clock() \u001b[39m-\u001b[39m start\n",
      "File \u001b[1;32mc:\\Python39\\lib\\site-packages\\requests\\adapters.py:578\u001b[0m, in \u001b[0;36mHTTPAdapter.send\u001b[1;34m(self, request, stream, timeout, verify, cert, proxies)\u001b[0m\n\u001b[0;32m    576\u001b[0m     \u001b[39mraise\u001b[39;00m SSLError(e, request\u001b[39m=\u001b[39mrequest)\n\u001b[0;32m    577\u001b[0m \u001b[39melif\u001b[39;00m \u001b[39misinstance\u001b[39m(e, ReadTimeoutError):\n\u001b[1;32m--> 578\u001b[0m     \u001b[39mraise\u001b[39;00m ReadTimeout(e, request\u001b[39m=\u001b[39mrequest)\n\u001b[0;32m    579\u001b[0m \u001b[39melif\u001b[39;00m \u001b[39misinstance\u001b[39m(e, _InvalidHeader):\n\u001b[0;32m    580\u001b[0m     \u001b[39mraise\u001b[39;00m InvalidHeader(e, request\u001b[39m=\u001b[39mrequest)\n",
      "\u001b[1;31mReadTimeout\u001b[0m: HTTPSConnectionPool(host='healthdata.gov', port=443): Read timed out. (read timeout=10)"
     ]
    }
   ],
   "source": [
    "# Unauthenticated client only works with public data sets. Note 'None'\n",
    "# in place of application token, and no username or password:\n",
    "client = Socrata(\"healthdata.gov\", None)\n",
    "\n",
    "# Example authenticated client (needed for non-public datasets):\n",
    "# client = Socrata(healthdata.gov,\n",
    "#                  MyAppToken,\n",
    "#                  userame=\"user@example.com\",\n",
    "#                  password=\"AFakePassword\")\n",
    "\n",
    "# First 2000 results, returned as JSON from API / converted to Python list of\n",
    "# dictionaries by sodapy.\n",
    "results = client.get(\"g62h-syeh\", limit=50000)\n",
    "\n",
    "# Convert to pandas DataFrame\n",
    "results_df = pd.DataFrame.from_records(results)"
   ]
  },
  {
   "cell_type": "code",
   "execution_count": 37,
   "metadata": {},
   "outputs": [
    {
     "data": {
      "text/plain": [
       "array(['state', 'date', 'critical_staffing_shortage_today_yes',\n",
       "       'critical_staffing_shortage_today_no',\n",
       "       'critical_staffing_shortage_today_not_reported',\n",
       "       'critical_staffing_shortage_anticipated_within_week_yes',\n",
       "       'critical_staffing_shortage_anticipated_within_week_no',\n",
       "       'critical_staffing_shortage_anticipated_within_week_not_reported',\n",
       "       'hospital_onset_covid', 'hospital_onset_covid_coverage',\n",
       "       'inpatient_beds', 'inpatient_beds_coverage', 'inpatient_beds_used',\n",
       "       'inpatient_beds_used_coverage', 'inpatient_beds_used_covid',\n",
       "       'inpatient_beds_used_covid_coverage',\n",
       "       'previous_day_admission_adult_covid_confirmed',\n",
       "       'previous_day_admission_adult_covid_confirmed_coverage',\n",
       "       'previous_day_admission_adult_covid_suspected',\n",
       "       'previous_day_admission_adult_covid_suspected_coverage',\n",
       "       'previous_day_admission_pediatric_covid_confirmed',\n",
       "       'previous_day_admission_pediatric_covid_confirmed_coverage',\n",
       "       'previous_day_admission_pediatric_covid_suspected',\n",
       "       'previous_day_admission_pediatric_covid_suspected_coverage',\n",
       "       'staffed_adult_icu_bed_occupancy',\n",
       "       'staffed_adult_icu_bed_occupancy_coverage',\n",
       "       'staffed_icu_adult_patients_confirmed_and_suspected_covid',\n",
       "       'staffed_icu_adult_patients_confirmed_and_suspected_covid_coverage',\n",
       "       'staffed_icu_adult_patients_confirmed_covid',\n",
       "       'staffed_icu_adult_patients_confirmed_covid_coverage',\n",
       "       'total_adult_patients_hospitalized_confirmed_and_suspected_covid',\n",
       "       'total_adult_patients_hospitalized_confirmed_and_suspected_covid_coverage',\n",
       "       'total_adult_patients_hospitalized_confirmed_covid',\n",
       "       'total_adult_patients_hospitalized_confirmed_covid_coverage',\n",
       "       'total_pediatric_patients_hospitalized_confirmed_and_suspected_covid',\n",
       "       'total_pediatric_patients_hospitalized_confirmed_and_suspected_covid_coverage',\n",
       "       'total_pediatric_patients_hospitalized_confirmed_covid',\n",
       "       'total_pediatric_patients_hospitalized_confirmed_covid_coverage',\n",
       "       'total_staffed_adult_icu_beds',\n",
       "       'total_staffed_adult_icu_beds_coverage',\n",
       "       'inpatient_beds_utilization',\n",
       "       'inpatient_beds_utilization_coverage',\n",
       "       'inpatient_beds_utilization_numerator',\n",
       "       'inpatient_beds_utilization_denominator',\n",
       "       'percent_of_inpatients_with_covid',\n",
       "       'percent_of_inpatients_with_covid_coverage',\n",
       "       'percent_of_inpatients_with_covid_numerator',\n",
       "       'percent_of_inpatients_with_covid_denominator',\n",
       "       'inpatient_bed_covid_utilization',\n",
       "       'inpatient_bed_covid_utilization_coverage',\n",
       "       'inpatient_bed_covid_utilization_numerator',\n",
       "       'inpatient_bed_covid_utilization_denominator',\n",
       "       'adult_icu_bed_covid_utilization',\n",
       "       'adult_icu_bed_covid_utilization_coverage',\n",
       "       'adult_icu_bed_covid_utilization_numerator',\n",
       "       'adult_icu_bed_covid_utilization_denominator',\n",
       "       'adult_icu_bed_utilization', 'adult_icu_bed_utilization_coverage',\n",
       "       'adult_icu_bed_utilization_numerator',\n",
       "       'adult_icu_bed_utilization_denominator',\n",
       "       'previous_day_admission_adult_covid_confirmed_18_19',\n",
       "       'previous_day_admission_adult_covid_confirmed_18_19_coverage',\n",
       "       'previous_day_admission_adult_covid_confirmed_20_29',\n",
       "       'previous_day_admission_adult_covid_confirmed_20_29_coverage',\n",
       "       'previous_day_admission_adult_covid_confirmed_30_39',\n",
       "       'previous_day_admission_adult_covid_confirmed_30_39_coverage',\n",
       "       'previous_day_admission_adult_covid_confirmed_40_49',\n",
       "       'previous_day_admission_adult_covid_confirmed_40_49_coverage',\n",
       "       'previous_day_admission_adult_covid_confirmed_50_59',\n",
       "       'previous_day_admission_adult_covid_confirmed_50_59_coverage',\n",
       "       'previous_day_admission_adult_covid_confirmed_60_69',\n",
       "       'previous_day_admission_adult_covid_confirmed_60_69_coverage',\n",
       "       'previous_day_admission_adult_covid_confirmed_70_79',\n",
       "       'previous_day_admission_adult_covid_confirmed_70_79_coverage',\n",
       "       'previous_day_admission_adult_covid_confirmed_80',\n",
       "       'previous_day_admission_adult_covid_confirmed_80_coverage',\n",
       "       'previous_day_admission_adult_covid_confirmed_unknown',\n",
       "       'previous_day_admission_adult_covid_confirmed_unknown_coverage',\n",
       "       'previous_day_admission_adult_covid_suspected_18_19',\n",
       "       'previous_day_admission_adult_covid_suspected_18_19_coverage',\n",
       "       'previous_day_admission_adult_covid_suspected_20_29',\n",
       "       'previous_day_admission_adult_covid_suspected_20_29_coverage',\n",
       "       'previous_day_admission_adult_covid_suspected_30_39',\n",
       "       'previous_day_admission_adult_covid_suspected_30_39_coverage',\n",
       "       'previous_day_admission_adult_covid_suspected_40_49',\n",
       "       'previous_day_admission_adult_covid_suspected_40_49_coverage',\n",
       "       'previous_day_admission_adult_covid_suspected_50_59',\n",
       "       'previous_day_admission_adult_covid_suspected_50_59_coverage',\n",
       "       'previous_day_admission_adult_covid_suspected_60_69',\n",
       "       'previous_day_admission_adult_covid_suspected_60_69_coverage',\n",
       "       'previous_day_admission_adult_covid_suspected_70_79',\n",
       "       'previous_day_admission_adult_covid_suspected_70_79_coverage',\n",
       "       'previous_day_admission_adult_covid_suspected_80_',\n",
       "       'previous_day_admission_adult_covid_suspected_80_coverage',\n",
       "       'previous_day_admission_adult_covid_suspected_unknown',\n",
       "       'previous_day_admission_adult_covid_suspected_unknown_coverage',\n",
       "       'deaths_covid', 'deaths_covid_coverage',\n",
       "       'icu_patients_confirmed_influenza_coverage',\n",
       "       'previous_day_admission_influenza_confirmed_coverage',\n",
       "       'previous_day_deaths_covid_and_influenza_coverage',\n",
       "       'previous_day_deaths_influenza_coverage',\n",
       "       'total_patients_hospitalized_confirmed_influenza_and_covid_coverage',\n",
       "       'total_patients_hospitalized_confirmed_influenza_coverage',\n",
       "       'all_pediatric_inpatient_bed_occupied_coverage',\n",
       "       'all_pediatric_inpatient_beds_coverage',\n",
       "       'previous_day_admission_pediatric_covid_confirmed_0_4_coverage',\n",
       "       'previous_day_admission_pediatric_covid_confirmed_12_17_coverage',\n",
       "       'previous_day_admission_pediatric_covid_confirmed_5_11_coverage',\n",
       "       'previous_day_admission_pediatric_covid_confirmed_unknown_coverage',\n",
       "       'staffed_icu_pediatric_patients_confirmed_covid_coverage',\n",
       "       'staffed_pediatric_icu_bed_occupancy_coverage',\n",
       "       'total_staffed_pediatric_icu_beds_coverage',\n",
       "       'all_pediatric_inpatient_bed_occupied',\n",
       "       'all_pediatric_inpatient_beds',\n",
       "       'staffed_icu_pediatric_patients_confirmed_covid',\n",
       "       'staffed_pediatric_icu_bed_occupancy',\n",
       "       'total_staffed_pediatric_icu_beds',\n",
       "       'icu_patients_confirmed_influenza',\n",
       "       'previous_day_admission_influenza_confirmed',\n",
       "       'previous_day_deaths_covid_and_influenza',\n",
       "       'previous_day_deaths_influenza',\n",
       "       'total_patients_hospitalized_confirmed_influenza',\n",
       "       'total_patients_hospitalized_confirmed_influenza_and_covid',\n",
       "       'previous_day_admission_pediatric_covid_confirmed_0_4',\n",
       "       'previous_day_admission_pediatric_covid_confirmed_12_17',\n",
       "       'previous_day_admission_pediatric_covid_confirmed_5_11',\n",
       "       'previous_day_admission_pediatric_covid_confirmed_unknown',\n",
       "       'on_hand_supply_therapeutic_a_casirivimab_imdevimab_courses',\n",
       "       'on_hand_supply_therapeutic_c_bamlanivimab_etesevimab_courses',\n",
       "       'previous_week_therapeutic_a_casirivimab_imdevimab_courses_used',\n",
       "       'previous_week_therapeutic_c_bamlanivimab_etesevimab_courses_used',\n",
       "       'on_hand_supply_therapeutic_b_bamlanivimab_courses',\n",
       "       'previous_week_therapeutic_b_bamlanivimab_courses_used'],\n",
       "      dtype=object)"
      ]
     },
     "execution_count": 37,
     "metadata": {},
     "output_type": "execute_result"
    }
   ],
   "source": [
    "results_df.columns.values"
   ]
  },
  {
   "cell_type": "markdown",
   "metadata": {},
   "source": [
    "1 - ¿Cuáles fueron los 5 Estados con mayor ocupación hospitalaria por COVID? Criterio de ocupación por cama común. Considere la cantidad de camas ocupadas con pacientes confirmados y tome como referencia los 6 primeros meses del 2020 - recuerde incluir la cifra de infectados en esos meses (acumulativo). ¿Influye el rango etario en este comportamiento?"
   ]
  },
  {
   "cell_type": "code",
   "execution_count": 38,
   "metadata": {},
   "outputs": [],
   "source": [
    "ocupacion_estados = results_df[['date','state', 'inpatient_beds','inpatient_beds_used','inpatient_beds_used_covid','previous_day_admission_adult_covid_confirmed','previous_day_admission_pediatric_covid_confirmed','hospital_onset_covid']]"
   ]
  },
  {
   "cell_type": "code",
   "execution_count": 39,
   "metadata": {},
   "outputs": [
    {
     "data": {
      "text/plain": [
       "date                                                object\n",
       "state                                               object\n",
       "inpatient_beds                                      object\n",
       "inpatient_beds_used                                 object\n",
       "inpatient_beds_used_covid                           object\n",
       "previous_day_admission_adult_covid_confirmed        object\n",
       "previous_day_admission_pediatric_covid_confirmed    object\n",
       "hospital_onset_covid                                object\n",
       "dtype: object"
      ]
     },
     "execution_count": 39,
     "metadata": {},
     "output_type": "execute_result"
    }
   ],
   "source": [
    "ocupacion_estados.dtypes"
   ]
  },
  {
   "cell_type": "code",
   "execution_count": 40,
   "metadata": {},
   "outputs": [
    {
     "name": "stderr",
     "output_type": "stream",
     "text": [
      "C:\\Users\\Public\\Documents\\Wondershare\\CreatorTemp\\ipykernel_2836\\3206550128.py:4: SettingWithCopyWarning: \n",
      "A value is trying to be set on a copy of a slice from a DataFrame.\n",
      "Try using .loc[row_indexer,col_indexer] = value instead\n",
      "\n",
      "See the caveats in the documentation: https://pandas.pydata.org/pandas-docs/stable/user_guide/indexing.html#returning-a-view-versus-a-copy\n",
      "  ocupacion_estados['inpatient_beds'] = pd.to_numeric(ocupacion_estados['inpatient_beds'])\n",
      "C:\\Users\\Public\\Documents\\Wondershare\\CreatorTemp\\ipykernel_2836\\3206550128.py:5: SettingWithCopyWarning: \n",
      "A value is trying to be set on a copy of a slice from a DataFrame.\n",
      "Try using .loc[row_indexer,col_indexer] = value instead\n",
      "\n",
      "See the caveats in the documentation: https://pandas.pydata.org/pandas-docs/stable/user_guide/indexing.html#returning-a-view-versus-a-copy\n",
      "  ocupacion_estados['inpatient_beds_used'] = pd.to_numeric(ocupacion_estados['inpatient_beds_used'])\n",
      "C:\\Users\\Public\\Documents\\Wondershare\\CreatorTemp\\ipykernel_2836\\3206550128.py:6: SettingWithCopyWarning: \n",
      "A value is trying to be set on a copy of a slice from a DataFrame.\n",
      "Try using .loc[row_indexer,col_indexer] = value instead\n",
      "\n",
      "See the caveats in the documentation: https://pandas.pydata.org/pandas-docs/stable/user_guide/indexing.html#returning-a-view-versus-a-copy\n",
      "  ocupacion_estados['inpatient_beds_used_covid'] = pd.to_numeric(ocupacion_estados['inpatient_beds_used_covid'])\n",
      "C:\\Users\\Public\\Documents\\Wondershare\\CreatorTemp\\ipykernel_2836\\3206550128.py:7: SettingWithCopyWarning: \n",
      "A value is trying to be set on a copy of a slice from a DataFrame.\n",
      "Try using .loc[row_indexer,col_indexer] = value instead\n",
      "\n",
      "See the caveats in the documentation: https://pandas.pydata.org/pandas-docs/stable/user_guide/indexing.html#returning-a-view-versus-a-copy\n",
      "  ocupacion_estados['previous_day_admission_adult_covid_confirmed'] = pd.to_numeric(ocupacion_estados['previous_day_admission_adult_covid_confirmed'])\n",
      "C:\\Users\\Public\\Documents\\Wondershare\\CreatorTemp\\ipykernel_2836\\3206550128.py:8: SettingWithCopyWarning: \n",
      "A value is trying to be set on a copy of a slice from a DataFrame.\n",
      "Try using .loc[row_indexer,col_indexer] = value instead\n",
      "\n",
      "See the caveats in the documentation: https://pandas.pydata.org/pandas-docs/stable/user_guide/indexing.html#returning-a-view-versus-a-copy\n",
      "  ocupacion_estados['previous_day_admission_pediatric_covid_confirmed'] = pd.to_numeric(ocupacion_estados['previous_day_admission_pediatric_covid_confirmed'])\n",
      "C:\\Users\\Public\\Documents\\Wondershare\\CreatorTemp\\ipykernel_2836\\3206550128.py:9: SettingWithCopyWarning: \n",
      "A value is trying to be set on a copy of a slice from a DataFrame.\n",
      "Try using .loc[row_indexer,col_indexer] = value instead\n",
      "\n",
      "See the caveats in the documentation: https://pandas.pydata.org/pandas-docs/stable/user_guide/indexing.html#returning-a-view-versus-a-copy\n",
      "  ocupacion_estados['hospital_onset_covid'] = pd.to_numeric(ocupacion_estados['hospital_onset_covid'])\n"
     ]
    }
   ],
   "source": [
    "#ocupacion_estados = ocupacion_estados.astype({'inpatient_bed_covid_utilization':'int','inpatient_beds_used':'int'})\n",
    "#ocupacion_estados['inpatient_bed_covid_utilization'] = ocupacion_estados['inpatient_bed_covid_utilization'].fillna(0).astype(int)\n",
    "#_ocupacion_estados['inpatient_beds_used'] = ocupacion_estados['inpatient_beds_used'].fillna(0).astype(int)\n",
    "ocupacion_estados['inpatient_beds'] = pd.to_numeric(ocupacion_estados['inpatient_beds'])\n",
    "ocupacion_estados['inpatient_beds_used'] = pd.to_numeric(ocupacion_estados['inpatient_beds_used'])\n",
    "ocupacion_estados['inpatient_beds_used_covid'] = pd.to_numeric(ocupacion_estados['inpatient_beds_used_covid'])\n",
    "ocupacion_estados['previous_day_admission_adult_covid_confirmed'] = pd.to_numeric(ocupacion_estados['previous_day_admission_adult_covid_confirmed'])\n",
    "ocupacion_estados['previous_day_admission_pediatric_covid_confirmed'] = pd.to_numeric(ocupacion_estados['previous_day_admission_pediatric_covid_confirmed'])\n",
    "ocupacion_estados['hospital_onset_covid'] = pd.to_numeric(ocupacion_estados['hospital_onset_covid'])\n"
   ]
  },
  {
   "cell_type": "code",
   "execution_count": 13,
   "metadata": {},
   "outputs": [
    {
     "name": "stderr",
     "output_type": "stream",
     "text": [
      "C:\\Users\\Public\\Documents\\Wondershare\\CreatorTemp\\ipykernel_14904\\4078632915.py:1: SettingWithCopyWarning: \n",
      "A value is trying to be set on a copy of a slice from a DataFrame.\n",
      "Try using .loc[row_indexer,col_indexer] = value instead\n",
      "\n",
      "See the caveats in the documentation: https://pandas.pydata.org/pandas-docs/stable/user_guide/indexing.html#returning-a-view-versus-a-copy\n",
      "  ocupacion_estados['ocupacion'] = ocupacion_estados['inpatient_beds'] - ocupacion_estados['inpatient_beds_used']\n"
     ]
    }
   ],
   "source": [
    "#ocupacion_estados['ocupacion'] = ocupacion_estados['inpatient_beds'] - ocupacion_estados['inpatient_beds_used']"
   ]
  },
  {
   "cell_type": "code",
   "execution_count": 8,
   "metadata": {},
   "outputs": [
    {
     "name": "stderr",
     "output_type": "stream",
     "text": [
      "C:\\Users\\Public\\Documents\\Wondershare\\CreatorTemp\\ipykernel_2836\\49131501.py:1: SettingWithCopyWarning: \n",
      "A value is trying to be set on a copy of a slice from a DataFrame.\n",
      "Try using .loc[row_indexer,col_indexer] = value instead\n",
      "\n",
      "See the caveats in the documentation: https://pandas.pydata.org/pandas-docs/stable/user_guide/indexing.html#returning-a-view-versus-a-copy\n",
      "  ocupacion_estados['date'] = pd.to_datetime(ocupacion_estados['date'])\n"
     ]
    }
   ],
   "source": [
    "ocupacion_estados['date'] = pd.to_datetime(ocupacion_estados['date'])\n",
    "#pd.to_datetime"
   ]
  },
  {
   "cell_type": "code",
   "execution_count": 7,
   "metadata": {},
   "outputs": [],
   "source": [
    "def convertir_str_date(cadena):\n",
    "    \n",
    "    fecha_format = datetime.strptime(cadena, '%Y-%m-%d')\n",
    "    return(fecha_format)"
   ]
  },
  {
   "cell_type": "code",
   "execution_count": 9,
   "metadata": {},
   "outputs": [],
   "source": [
    "#ocupacion_estados.head()\n",
    "#import datetime as dt\n",
    "#from datetime import datetime\n",
    "#fecha_ini = '2020-01-01'\n",
    "#fecha_fin = '2020-06-31'\n",
    "#print(convertir_str_date(fecha_ini))\n",
    "#ocupacion_estados_2020 = ocupacion_estados[(ocupacion_estados['date'] >= convertir_str_date(fecha_ini) & ocupacion_estados['date'] <= convertir_str_date(fecha_fin))]\n",
    "ocupacion_estados_2020=ocupacion_estados.query(\"date >= '2020-01-01' and date <='2020-06-30'\")"
   ]
  },
  {
   "cell_type": "code",
   "execution_count": 10,
   "metadata": {},
   "outputs": [
    {
     "name": "stdout",
     "output_type": "stream",
     "text": [
      "<class 'pandas.core.frame.DataFrame'>\n",
      "Int64Index: 6694 entries, 52 to 21593\n",
      "Data columns (total 8 columns):\n",
      " #   Column                                            Non-Null Count  Dtype         \n",
      "---  ------                                            --------------  -----         \n",
      " 0   date                                              6694 non-null   datetime64[ns]\n",
      " 1   state                                             6694 non-null   object        \n",
      " 2   inpatient_beds                                    6689 non-null   float64       \n",
      " 3   inpatient_beds_used                               6441 non-null   float64       \n",
      " 4   inpatient_beds_used_covid                         6610 non-null   float64       \n",
      " 5   previous_day_admission_adult_covid_confirmed      508 non-null    float64       \n",
      " 6   previous_day_admission_pediatric_covid_confirmed  194 non-null    float64       \n",
      " 7   hospital_onset_covid                              6460 non-null   float64       \n",
      "dtypes: datetime64[ns](1), float64(6), object(1)\n",
      "memory usage: 470.7+ KB\n"
     ]
    }
   ],
   "source": [
    "ocupacion_estados_2020.info()"
   ]
  },
  {
   "cell_type": "code",
   "execution_count": 11,
   "metadata": {},
   "outputs": [
    {
     "data": {
      "text/html": [
       "<div>\n",
       "<style scoped>\n",
       "    .dataframe tbody tr th:only-of-type {\n",
       "        vertical-align: middle;\n",
       "    }\n",
       "\n",
       "    .dataframe tbody tr th {\n",
       "        vertical-align: top;\n",
       "    }\n",
       "\n",
       "    .dataframe thead th {\n",
       "        text-align: right;\n",
       "    }\n",
       "</style>\n",
       "<table border=\"1\" class=\"dataframe\">\n",
       "  <thead>\n",
       "    <tr style=\"text-align: right;\">\n",
       "      <th></th>\n",
       "      <th>inpatient_beds_used_covid</th>\n",
       "    </tr>\n",
       "    <tr>\n",
       "      <th>state</th>\n",
       "      <th></th>\n",
       "    </tr>\n",
       "  </thead>\n",
       "  <tbody>\n",
       "    <tr>\n",
       "      <th>NY</th>\n",
       "      <td>686528.0</td>\n",
       "    </tr>\n",
       "    <tr>\n",
       "      <th>CA</th>\n",
       "      <td>434721.0</td>\n",
       "    </tr>\n",
       "    <tr>\n",
       "      <th>FL</th>\n",
       "      <td>322227.0</td>\n",
       "    </tr>\n",
       "    <tr>\n",
       "      <th>TX</th>\n",
       "      <td>246237.0</td>\n",
       "    </tr>\n",
       "    <tr>\n",
       "      <th>IL</th>\n",
       "      <td>214010.0</td>\n",
       "    </tr>\n",
       "  </tbody>\n",
       "</table>\n",
       "</div>"
      ],
      "text/plain": [
       "       inpatient_beds_used_covid\n",
       "state                           \n",
       "NY                      686528.0\n",
       "CA                      434721.0\n",
       "FL                      322227.0\n",
       "TX                      246237.0\n",
       "IL                      214010.0"
      ]
     },
     "execution_count": 11,
     "metadata": {},
     "output_type": "execute_result"
    }
   ],
   "source": [
    "#ocupacion_estados.[ocupacion_estados['ocupacion']]\n",
    "estados_max_ocup = ocupacion_estados_2020.sort_values(by=['inpatient_beds_used_covid'],ascending=False)\n",
    "#diasmaxBrecha.sort_values(by=['FECHA'],inplace=True)\n",
    "#resp01 = ocupacion_estados_2020[ocupacion_estados_2020['ocupacion']==estados_max_ocup]\n",
    "#resp01\n",
    "#by_week_max = pd.DataFrame(df_v2.groupby(['ANIOSEMANA'])['Diferencia'].apply(lambda x : x.astype('float64').max()))\n",
    "filtro_estados_2020 = pd.DataFrame(ocupacion_estados_2020.groupby('state')['inpatient_beds_used_covid'].sum().sort_values(ascending=False)).head(5)\n",
    "#filtro_estados_2020.sort_values(by='state',inplace=True)\n",
    "filtro_estados_2020\n"
   ]
  },
  {
   "cell_type": "code",
   "execution_count": 12,
   "metadata": {},
   "outputs": [
    {
     "name": "stderr",
     "output_type": "stream",
     "text": [
      "C:\\Users\\Public\\Documents\\Wondershare\\CreatorTemp\\ipykernel_2836\\1751219551.py:1: FutureWarning: Indexing with multiple keys (implicitly converted to a tuple of keys) will be deprecated, use a list instead.\n",
      "  infectados = pd.DataFrame(ocupacion_estados_2020.groupby('state')['inpatient_beds_used_covid','hospital_onset_covid'].sum().sort_values(by='inpatient_beds_used_covid', ascending=False)).head(5)\n"
     ]
    },
    {
     "data": {
      "text/html": [
       "<div>\n",
       "<style scoped>\n",
       "    .dataframe tbody tr th:only-of-type {\n",
       "        vertical-align: middle;\n",
       "    }\n",
       "\n",
       "    .dataframe tbody tr th {\n",
       "        vertical-align: top;\n",
       "    }\n",
       "\n",
       "    .dataframe thead th {\n",
       "        text-align: right;\n",
       "    }\n",
       "</style>\n",
       "<table border=\"1\" class=\"dataframe\">\n",
       "  <thead>\n",
       "    <tr style=\"text-align: right;\">\n",
       "      <th></th>\n",
       "      <th>inpatient_beds_used_covid</th>\n",
       "      <th>hospital_onset_covid</th>\n",
       "    </tr>\n",
       "    <tr>\n",
       "      <th>state</th>\n",
       "      <th></th>\n",
       "      <th></th>\n",
       "    </tr>\n",
       "  </thead>\n",
       "  <tbody>\n",
       "    <tr>\n",
       "      <th>NY</th>\n",
       "      <td>686528.0</td>\n",
       "      <td>5569.0</td>\n",
       "    </tr>\n",
       "    <tr>\n",
       "      <th>CA</th>\n",
       "      <td>434721.0</td>\n",
       "      <td>5499.0</td>\n",
       "    </tr>\n",
       "    <tr>\n",
       "      <th>FL</th>\n",
       "      <td>322227.0</td>\n",
       "      <td>6411.0</td>\n",
       "    </tr>\n",
       "    <tr>\n",
       "      <th>TX</th>\n",
       "      <td>246237.0</td>\n",
       "      <td>7703.0</td>\n",
       "    </tr>\n",
       "    <tr>\n",
       "      <th>IL</th>\n",
       "      <td>214010.0</td>\n",
       "      <td>1498.0</td>\n",
       "    </tr>\n",
       "  </tbody>\n",
       "</table>\n",
       "</div>"
      ],
      "text/plain": [
       "       inpatient_beds_used_covid  hospital_onset_covid\n",
       "state                                                 \n",
       "NY                      686528.0                5569.0\n",
       "CA                      434721.0                5499.0\n",
       "FL                      322227.0                6411.0\n",
       "TX                      246237.0                7703.0\n",
       "IL                      214010.0                1498.0"
      ]
     },
     "execution_count": 12,
     "metadata": {},
     "output_type": "execute_result"
    }
   ],
   "source": [
    "infectados = pd.DataFrame(ocupacion_estados_2020.groupby('state')['inpatient_beds_used_covid','hospital_onset_covid'].sum().sort_values(by='inpatient_beds_used_covid', ascending=False)).head(5)\n",
    "infectados"
   ]
  },
  {
   "cell_type": "markdown",
   "metadata": {},
   "source": [
    "2 - Analice la ocupación de camas (Común) por COVID en el Estado de Nueva York durante la cuarentena establecida e indique:\n",
    "\n",
    "Intervalos de crecimiento y decrecimiento\n",
    "Puntos críticos (mínimos y máximos)"
   ]
  },
  {
   "cell_type": "code",
   "execution_count": 16,
   "metadata": {},
   "outputs": [],
   "source": [
    "filtroNY = ocupacion_estados_2020['state'] == 'NY'\n",
    "OnlyNY = ocupacion_estados_2020[filtroNY]"
   ]
  },
  {
   "cell_type": "code",
   "execution_count": 26,
   "metadata": {},
   "outputs": [],
   "source": [
    "y_NY = OnlyNY['inpatient_beds_used_covid']\n",
    "x_NY = OnlyNY['date']"
   ]
  },
  {
   "cell_type": "code",
   "execution_count": 34,
   "metadata": {},
   "outputs": [
    {
     "data": {
      "image/png": "[encoded data removed]",
      "text/plain": [
       "<Figure size 1152x576 with 1 Axes>"
      ]
     },
     "metadata": {},
     "output_type": "display_data"
    }
   ],
   "source": [
    "#sns.lineplot(y_NY,x_NY)\n",
    "sns.set_theme(style=\"darkgrid\", context=\"talk\")\n",
    "sns.set(font_scale=0.9)\n",
    "gNY = sns.relplot(data=OnlyNY, y=y_NY,x=x_NY,\n",
    "                        height= 8,\n",
    "                        aspect=2, kind='line')\n",
    "\n",
    "gNY.figure.autofmt_xdate(rotation=90)\n",
    "plt.xlabel('Días', fontsize=16)\n",
    "plt.ylabel('Cantidad de Internaciones', fontsize=16)\n",
    "plt.title('Ocupación de camas durante la cuarentena \"lockdown\"', fontsize=20)\n",
    "plt.show();"
   ]
  },
  {
   "cell_type": "code",
   "execution_count": 140,
   "metadata": {},
   "outputs": [
    {
     "data": {
      "application/vnd.plotly.v1+json": {
       "config": {
        "linkText": "Export to plot.ly",
        "plotlyServerURL": "https://plot.ly",
        "showLink": true
       },
       "data": [
        {
         "marker": {
          "color": "rgba(255, 153, 51, 0.6)",
          "line": {
           "color": "rgba(255, 153, 51, 1.0)",
           "width": 1
          }
         },
         "name": "inpatient_beds_used_covid",
         "orientation": "v",
         "text": "",
         "type": "bar",
         "x": [
          "2020-06-15",
          "2020-06-09",
          "2020-06-07",
          "2020-06-06",
          "2020-06-11",
          "2020-06-10",
          "2020-06-26",
          "2020-06-17",
          "2020-06-24",
          "2020-06-29",
          "2020-06-20",
          "2020-06-21",
          "2020-06-16",
          "2020-06-19",
          "2020-06-13",
          "2020-06-30",
          "2020-06-25",
          "2020-06-27",
          "2020-06-23",
          "2020-06-28",
          "2020-06-22",
          "2020-06-18",
          "2020-06-08",
          "2020-06-12",
          "2020-06-14",
          "2020-05-30",
          "2020-04-02",
          "2020-05-24",
          "2020-04-17",
          "2020-04-27",
          "2020-04-03",
          "2020-03-27",
          "2020-04-08",
          "2020-03-16",
          "2020-06-03",
          "2020-05-18",
          "2020-04-21",
          "2020-03-22",
          "2020-03-25",
          "2020-05-12",
          "2020-03-24",
          "2020-05-22",
          "2020-04-09",
          "2020-05-03",
          "2020-04-15",
          "2020-04-06",
          "2020-05-31",
          "2020-06-02",
          "2020-04-28",
          "2020-03-21",
          "2020-05-25",
          "2020-05-21",
          "2020-05-19",
          "2020-05-10",
          "2020-05-28",
          "2020-03-15",
          "2020-05-15",
          "2020-05-07",
          "2020-04-01",
          "2020-05-09",
          "2020-05-13",
          "2020-04-16",
          "2020-05-17",
          "2020-04-12",
          "2020-05-26",
          "2020-03-30",
          "2020-06-01",
          "2020-04-25",
          "2020-04-23",
          "2020-03-19",
          "2020-04-04",
          "2020-05-16",
          "2020-04-19",
          "2020-05-23",
          "2020-04-13",
          "2020-05-05",
          "2020-03-17",
          "2020-03-23",
          "2020-05-20",
          "2020-04-11",
          "2020-05-14",
          "2020-03-18",
          "2020-04-05",
          "2020-05-04",
          "2020-05-08",
          "2020-03-29",
          "2020-05-06",
          "2020-04-07",
          "2020-05-02",
          "2020-04-22",
          "2020-04-30",
          "2020-05-11",
          "2020-05-27",
          "2020-04-18",
          "2020-04-26",
          "2020-04-24",
          "2020-05-29",
          "2020-03-28",
          "2020-03-26",
          "2020-04-29",
          "2020-04-10",
          "2020-04-14",
          "2020-04-20",
          "2020-03-20",
          "2020-06-05",
          "2020-03-31",
          "2020-05-01",
          "2020-03-14",
          "2020-06-04"
         ],
         "y": [
          4476,
          3001,
          3720,
          3989,
          2772,
          2835,
          1751,
          4183,
          1902,
          1407,
          3149,
          3309,
          4318,
          4002,
          2530,
          1426,
          1851,
          1654,
          1922,
          1477,
          1942,
          4160,
          3363,
          2638,
          2322,
          3939,
          12278,
          4659,
          13038,
          11037,
          12637,
          1205,
          12787,
          97,
          3970,
          6110,
          12335,
          324,
          843,
          8237,
          554,
          5056,
          13009,
          8648,
          14067,
          12711,
          3903,
          3805,
          10736,
          279,
          4690,
          5308,
          5781,
          6674,
          4172,
          88,
          7758,
          7469,
          11029,
          6798,
          8040,
          13419,
          5966,
          13443,
          4708,
          5007,
          3836,
          11657,
          12461,
          216,
          13107,
          7580,
          12496,
          4746,
          13909,
          8434,
          128,
          417,
          5580,
          13361,
          7875,
          174,
          12363,
          8591,
          7049,
          1630,
          7942,
          12611,
          8802,
          13005,
          9662,
          6763,
          4516,
          12838,
          11453,
          12009,
          4036,
          1294,
          992,
          10137,
          13369,
          14126,
          12507,
          230,
          4166,
          10251,
          9229,
          6,
          4261
         ]
        }
       ],
       "layout": {
        "legend": {
         "bgcolor": "#FFFFFF",
         "font": {
          "color": "#4D5663"
         }
        },
        "paper_bgcolor": "#FFFFFF",
        "plot_bgcolor": "#FFFFFF",
        "template": {
         "data": {
          "bar": [
           {
            "error_x": {
             "color": "#2a3f5f"
            },
            "error_y": {
             "color": "#2a3f5f"
            },
            "marker": {
             "line": {
              "color": "#E5ECF6",
              "width": 0.5
             },
             "pattern": {
              "fillmode": "overlay",
              "size": 10,
              "solidity": 0.2
             }
            },
            "type": "bar"
           }
          ],
          "barpolar": [
           {
            "marker": {
             "line": {
              "color": "#E5ECF6",
              "width": 0.5
             },
             "pattern": {
              "fillmode": "overlay",
              "size": 10,
              "solidity": 0.2
             }
            },
            "type": "barpolar"
           }
          ],
          "carpet": [
           {
            "aaxis": {
             "endlinecolor": "#2a3f5f",
             "gridcolor": "white",
             "linecolor": "white",
             "minorgridcolor": "white",
             "startlinecolor": "#2a3f5f"
            },
            "baxis": {
             "endlinecolor": "#2a3f5f",
             "gridcolor": "white",
             "linecolor": "white",
             "minorgridcolor": "white",
             "startlinecolor": "#2a3f5f"
            },
            "type": "carpet"
           }
          ],
          "choropleth": [
           {
            "colorbar": {
             "outlinewidth": 0,
             "ticks": ""
            },
            "type": "choropleth"
           }
          ],
          "contour": [
           {
            "colorbar": {
             "outlinewidth": 0,
             "ticks": ""
            },
            "colorscale": [
             [
              0,
              "#0d0887"
             ],
             [
              0.1111111111111111,
              "#46039f"
             ],
             [
              0.2222222222222222,
              "#7201a8"
             ],
             [
              0.3333333333333333,
              "#9c179e"
             ],
             [
              0.4444444444444444,
              "#bd3786"
             ],
             [
              0.5555555555555556,
              "#d8576b"
             ],
             [
              0.6666666666666666,
              "#ed7953"
             ],
             [
              0.7777777777777778,
              "#fb9f3a"
             ],
             [
              0.8888888888888888,
              "#fdca26"
             ],
             [
              1,
              "#f0f921"
             ]
            ],
            "type": "contour"
           }
          ],
          "contourcarpet": [
           {
            "colorbar": {
             "outlinewidth": 0,
             "ticks": ""
            },
            "type": "contourcarpet"
           }
          ],
          "heatmap": [
           {
            "colorbar": {
             "outlinewidth": 0,
             "ticks": ""
            },
            "colorscale": [
             [
              0,
              "#0d0887"
             ],
             [
              0.1111111111111111,
              "#46039f"
             ],
             [
              0.2222222222222222,
              "#7201a8"
             ],
             [
              0.3333333333333333,
              "#9c179e"
             ],
             [
              0.4444444444444444,
              "#bd3786"
             ],
             [
              0.5555555555555556,
              "#d8576b"
             ],
             [
              0.6666666666666666,
              "#ed7953"
             ],
             [
              0.7777777777777778,
              "#fb9f3a"
             ],
             [
              0.8888888888888888,
              "#fdca26"
             ],
             [
              1,
              "#f0f921"
             ]
            ],
            "type": "heatmap"
           }
          ],
          "heatmapgl": [
           {
            "colorbar": {
             "outlinewidth": 0,
             "ticks": ""
            },
            "colorscale": [
             [
              0,
              "#0d0887"
             ],
             [
              0.1111111111111111,
              "#46039f"
             ],
             [
              0.2222222222222222,
              "#7201a8"
             ],
             [
              0.3333333333333333,
              "#9c179e"
             ],
             [
              0.4444444444444444,
              "#bd3786"
             ],
             [
              0.5555555555555556,
              "#d8576b"
             ],
             [
              0.6666666666666666,
              "#ed7953"
             ],
             [
              0.7777777777777778,
              "#fb9f3a"
             ],
             [
              0.8888888888888888,
              "#fdca26"
             ],
             [
              1,
              "#f0f921"
             ]
            ],
            "type": "heatmapgl"
           }
          ],
          "histogram": [
           {
            "marker": {
             "pattern": {
              "fillmode": "overlay",
              "size": 10,
              "solidity": 0.2
             }
            },
            "type": "histogram"
           }
          ],
          "histogram2d": [
           {
            "colorbar": {
             "outlinewidth": 0,
             "ticks": ""
            },
            "colorscale": [
             [
              0,
              "#0d0887"
             ],
             [
              0.1111111111111111,
              "#46039f"
             ],
             [
              0.2222222222222222,
              "#7201a8"
             ],
             [
              0.3333333333333333,
              "#9c179e"
             ],
             [
              0.4444444444444444,
              "#bd3786"
             ],
             [
              0.5555555555555556,
              "#d8576b"
             ],
             [
              0.6666666666666666,
              "#ed7953"
             ],
             [
              0.7777777777777778,
              "#fb9f3a"
             ],
             [
              0.8888888888888888,
              "#fdca26"
             ],
             [
              1,
              "#f0f921"
             ]
            ],
            "type": "histogram2d"
           }
          ],
          "histogram2dcontour": [
           {
            "colorbar": {
             "outlinewidth": 0,
             "ticks": ""
            },
            "colorscale": [
             [
              0,
              "#0d0887"
             ],
             [
              0.1111111111111111,
              "#46039f"
             ],
             [
              0.2222222222222222,
              "#7201a8"
             ],
             [
              0.3333333333333333,
              "#9c179e"
             ],
             [
              0.4444444444444444,
              "#bd3786"
             ],
             [
              0.5555555555555556,
              "#d8576b"
             ],
             [
              0.6666666666666666,
              "#ed7953"
             ],
             [
              0.7777777777777778,
              "#fb9f3a"
             ],
             [
              0.8888888888888888,
              "#fdca26"
             ],
             [
              1,
              "#f0f921"
             ]
            ],
            "type": "histogram2dcontour"
           }
          ],
          "mesh3d": [
           {
            "colorbar": {
             "outlinewidth": 0,
             "ticks": ""
            },
            "type": "mesh3d"
           }
          ],
          "parcoords": [
           {
            "line": {
             "colorbar": {
              "outlinewidth": 0,
              "ticks": ""
             }
            },
            "type": "parcoords"
           }
          ],
          "pie": [
           {
            "automargin": true,
            "type": "pie"
           }
          ],
          "scatter": [
           {
            "fillpattern": {
             "fillmode": "overlay",
             "size": 10,
             "solidity": 0.2
            },
            "type": "scatter"
           }
          ],
          "scatter3d": [
           {
            "line": {
             "colorbar": {
              "outlinewidth": 0,
              "ticks": ""
             }
            },
            "marker": {
             "colorbar": {
              "outlinewidth": 0,
              "ticks": ""
             }
            },
            "type": "scatter3d"
           }
          ],
          "scattercarpet": [
           {
            "marker": {
             "colorbar": {
              "outlinewidth": 0,
              "ticks": ""
             }
            },
            "type": "scattercarpet"
           }
          ],
          "scattergeo": [
           {
            "marker": {
             "colorbar": {
              "outlinewidth": 0,
              "ticks": ""
             }
            },
            "type": "scattergeo"
           }
          ],
          "scattergl": [
           {
            "marker": {
             "colorbar": {
              "outlinewidth": 0,
              "ticks": ""
             }
            },
            "type": "scattergl"
           }
          ],
          "scattermapbox": [
           {
            "marker": {
             "colorbar": {
              "outlinewidth": 0,
              "ticks": ""
             }
            },
            "type": "scattermapbox"
           }
          ],
          "scatterpolar": [
           {
            "marker": {
             "colorbar": {
              "outlinewidth": 0,
              "ticks": ""
             }
            },
            "type": "scatterpolar"
           }
          ],
          "scatterpolargl": [
           {
            "marker": {
             "colorbar": {
              "outlinewidth": 0,
              "ticks": ""
             }
            },
            "type": "scatterpolargl"
           }
          ],
          "scatterternary": [
           {
            "marker": {
             "colorbar": {
              "outlinewidth": 0,
              "ticks": ""
             }
            },
            "type": "scatterternary"
           }
          ],
          "surface": [
           {
            "colorbar": {
             "outlinewidth": 0,
             "ticks": ""
            },
            "colorscale": [
             [
              0,
              "#0d0887"
             ],
             [
              0.1111111111111111,
              "#46039f"
             ],
             [
              0.2222222222222222,
              "#7201a8"
             ],
             [
              0.3333333333333333,
              "#9c179e"
             ],
             [
              0.4444444444444444,
              "#bd3786"
             ],
             [
              0.5555555555555556,
              "#d8576b"
             ],
             [
              0.6666666666666666,
              "#ed7953"
             ],
             [
              0.7777777777777778,
              "#fb9f3a"
             ],
             [
              0.8888888888888888,
              "#fdca26"
             ],
             [
              1,
              "#f0f921"
             ]
            ],
            "type": "surface"
           }
          ],
          "table": [
           {
            "cells": {
             "fill": {
              "color": "#EBF0F8"
             },
             "line": {
              "color": "white"
             }
            },
            "header": {
             "fill": {
              "color": "#C8D4E3"
             },
             "line": {
              "color": "white"
             }
            },
            "type": "table"
           }
          ]
         },
         "layout": {
          "annotationdefaults": {
           "arrowcolor": "#2a3f5f",
           "arrowhead": 0,
           "arrowwidth": 1
          },
          "autotypenumbers": "strict",
          "coloraxis": {
           "colorbar": {
            "outlinewidth": 0,
            "ticks": ""
           }
          },
          "colorscale": {
           "diverging": [
            [
             0,
             "#8e0152"
            ],
            [
             0.1,
             "#c51b7d"
            ],
            [
             0.2,
             "#de77ae"
            ],
            [
             0.3,
             "#f1b6da"
            ],
            [
             0.4,
             "#fde0ef"
            ],
            [
             0.5,
             "#f7f7f7"
            ],
            [
             0.6,
             "#e6f5d0"
            ],
            [
             0.7,
             "#b8e186"
            ],
            [
             0.8,
             "#7fbc41"
            ],
            [
             0.9,
             "#4d9221"
            ],
            [
             1,
             "#276419"
            ]
           ],
           "sequential": [
            [
             0,
             "#0d0887"
            ],
            [
             0.1111111111111111,
             "#46039f"
            ],
            [
             0.2222222222222222,
             "#7201a8"
            ],
            [
             0.3333333333333333,
             "#9c179e"
            ],
            [
             0.4444444444444444,
             "#bd3786"
            ],
            [
             0.5555555555555556,
             "#d8576b"
            ],
            [
             0.6666666666666666,
             "#ed7953"
            ],
            [
             0.7777777777777778,
             "#fb9f3a"
            ],
            [
             0.8888888888888888,
             "#fdca26"
            ],
            [
             1,
             "#f0f921"
            ]
           ],
           "sequentialminus": [
            [
             0,
             "#0d0887"
            ],
            [
             0.1111111111111111,
             "#46039f"
            ],
            [
             0.2222222222222222,
             "#7201a8"
            ],
            [
             0.3333333333333333,
             "#9c179e"
            ],
            [
             0.4444444444444444,
             "#bd3786"
            ],
            [
             0.5555555555555556,
             "#d8576b"
            ],
            [
             0.6666666666666666,
             "#ed7953"
            ],
            [
             0.7777777777777778,
             "#fb9f3a"
            ],
            [
             0.8888888888888888,
             "#fdca26"
            ],
            [
             1,
             "#f0f921"
            ]
           ]
          },
          "colorway": [
           "#636efa",
           "#EF553B",
           "#00cc96",
           "#ab63fa",
           "#FFA15A",
           "#19d3f3",
           "#FF6692",
           "#B6E880",
           "#FF97FF",
           "#FECB52"
          ],
          "font": {
           "color": "#2a3f5f"
          },
          "geo": {
           "bgcolor": "white",
           "lakecolor": "white",
           "landcolor": "#E5ECF6",
           "showlakes": true,
           "showland": true,
           "subunitcolor": "white"
          },
          "hoverlabel": {
           "align": "left"
          },
          "hovermode": "closest",
          "mapbox": {
           "style": "light"
          },
          "paper_bgcolor": "white",
          "plot_bgcolor": "#E5ECF6",
          "polar": {
           "angularaxis": {
            "gridcolor": "white",
            "linecolor": "white",
            "ticks": ""
           },
           "bgcolor": "#E5ECF6",
           "radialaxis": {
            "gridcolor": "white",
            "linecolor": "white",
            "ticks": ""
           }
          },
          "scene": {
           "xaxis": {
            "backgroundcolor": "#E5ECF6",
            "gridcolor": "white",
            "gridwidth": 2,
            "linecolor": "white",
            "showbackground": true,
            "ticks": "",
            "zerolinecolor": "white"
           },
           "yaxis": {
            "backgroundcolor": "#E5ECF6",
            "gridcolor": "white",
            "gridwidth": 2,
            "linecolor": "white",
            "showbackground": true,
            "ticks": "",
            "zerolinecolor": "white"
           },
           "zaxis": {
            "backgroundcolor": "#E5ECF6",
            "gridcolor": "white",
            "gridwidth": 2,
            "linecolor": "white",
            "showbackground": true,
            "ticks": "",
            "zerolinecolor": "white"
           }
          },
          "shapedefaults": {
           "line": {
            "color": "#2a3f5f"
           }
          },
          "ternary": {
           "aaxis": {
            "gridcolor": "white",
            "linecolor": "white",
            "ticks": ""
           },
           "baxis": {
            "gridcolor": "white",
            "linecolor": "white",
            "ticks": ""
           },
           "bgcolor": "#E5ECF6",
           "caxis": {
            "gridcolor": "white",
            "linecolor": "white",
            "ticks": ""
           }
          },
          "title": {
           "x": 0.05
          },
          "xaxis": {
           "automargin": true,
           "gridcolor": "white",
           "linecolor": "white",
           "ticks": "",
           "title": {
            "standoff": 15
           },
           "zerolinecolor": "white",
           "zerolinewidth": 2
          },
          "yaxis": {
           "automargin": true,
           "gridcolor": "white",
           "linecolor": "white",
           "ticks": "",
           "title": {
            "standoff": 15
           },
           "zerolinecolor": "white",
           "zerolinewidth": 2
          }
         }
        },
        "title": {
         "font": {
          "color": "#4D5663"
         },
         "text": "Ocupación de camas durante la cuarentena \"lockdown\""
        },
        "xaxis": {
         "gridcolor": "#E1E5ED",
         "showgrid": true,
         "tickfont": {
          "color": "#4D5663"
         },
         "title": {
          "font": {
           "color": "#4D5663"
          },
          "text": "Fecha"
         },
         "zerolinecolor": "#E1E5ED"
        },
        "yaxis": {
         "gridcolor": "#E1E5ED",
         "showgrid": true,
         "tickfont": {
          "color": "#4D5663"
         },
         "title": {
          "font": {
           "color": "#4D5663"
          },
          "text": "Cantidad de Internaciones"
         },
         "zerolinecolor": "#E1E5ED"
        }
       }
      },
      "text/html": [
       "<div>                            <div id=\"62aa9fc5-e2a2-4dd5-bd4a-251ce6911a97\" class=\"plotly-graph-div\" style=\"height:525px; width:100%;\"></div>            <script type=\"text/javascript\">                require([\"plotly\"], function(Plotly) {                    window.PLOTLYENV=window.PLOTLYENV || {};\n",
       "                    window.PLOTLYENV.BASE_URL='https://plot.ly';                                    if (document.getElementById(\"62aa9fc5-e2a2-4dd5-bd4a-251ce6911a97\")) {                    Plotly.newPlot(                        \"62aa9fc5-e2a2-4dd5-bd4a-251ce6911a97\",                        [{\"marker\":{\"color\":\"rgba(255, 153, 51, 0.6)\",\"line\":{\"color\":\"rgba(255, 153, 51, 1.0)\",\"width\":1}},\"name\":\"inpatient_beds_used_covid\",\"orientation\":\"v\",\"text\":\"\",\"x\":[\"2020-06-15\",\"2020-06-09\",\"2020-06-07\",\"2020-06-06\",\"2020-06-11\",\"2020-06-10\",\"2020-06-26\",\"2020-06-17\",\"2020-06-24\",\"2020-06-29\",\"2020-06-20\",\"2020-06-21\",\"2020-06-16\",\"2020-06-19\",\"2020-06-13\",\"2020-06-30\",\"2020-06-25\",\"2020-06-27\",\"2020-06-23\",\"2020-06-28\",\"2020-06-22\",\"2020-06-18\",\"2020-06-08\",\"2020-06-12\",\"2020-06-14\",\"2020-05-30\",\"2020-04-02\",\"2020-05-24\",\"2020-04-17\",\"2020-04-27\",\"2020-04-03\",\"2020-03-27\",\"2020-04-08\",\"2020-03-16\",\"2020-06-03\",\"2020-05-18\",\"2020-04-21\",\"2020-03-22\",\"2020-03-25\",\"2020-05-12\",\"2020-03-24\",\"2020-05-22\",\"2020-04-09\",\"2020-05-03\",\"2020-04-15\",\"2020-04-06\",\"2020-05-31\",\"2020-06-02\",\"2020-04-28\",\"2020-03-21\",\"2020-05-25\",\"2020-05-21\",\"2020-05-19\",\"2020-05-10\",\"2020-05-28\",\"2020-03-15\",\"2020-05-15\",\"2020-05-07\",\"2020-04-01\",\"2020-05-09\",\"2020-05-13\",\"2020-04-16\",\"2020-05-17\",\"2020-04-12\",\"2020-05-26\",\"2020-03-30\",\"2020-06-01\",\"2020-04-25\",\"2020-04-23\",\"2020-03-19\",\"2020-04-04\",\"2020-05-16\",\"2020-04-19\",\"2020-05-23\",\"2020-04-13\",\"2020-05-05\",\"2020-03-17\",\"2020-03-23\",\"2020-05-20\",\"2020-04-11\",\"2020-05-14\",\"2020-03-18\",\"2020-04-05\",\"2020-05-04\",\"2020-05-08\",\"2020-03-29\",\"2020-05-06\",\"2020-04-07\",\"2020-05-02\",\"2020-04-22\",\"2020-04-30\",\"2020-05-11\",\"2020-05-27\",\"2020-04-18\",\"2020-04-26\",\"2020-04-24\",\"2020-05-29\",\"2020-03-28\",\"2020-03-26\",\"2020-04-29\",\"2020-04-10\",\"2020-04-14\",\"2020-04-20\",\"2020-03-20\",\"2020-06-05\",\"2020-03-31\",\"2020-05-01\",\"2020-03-14\",\"2020-06-04\"],\"y\":[4476.0,3001.0,3720.0,3989.0,2772.0,2835.0,1751.0,4183.0,1902.0,1407.0,3149.0,3309.0,4318.0,4002.0,2530.0,1426.0,1851.0,1654.0,1922.0,1477.0,1942.0,4160.0,3363.0,2638.0,2322.0,3939.0,12278.0,4659.0,13038.0,11037.0,12637.0,1205.0,12787.0,97.0,3970.0,6110.0,12335.0,324.0,843.0,8237.0,554.0,5056.0,13009.0,8648.0,14067.0,12711.0,3903.0,3805.0,10736.0,279.0,4690.0,5308.0,5781.0,6674.0,4172.0,88.0,7758.0,7469.0,11029.0,6798.0,8040.0,13419.0,5966.0,13443.0,4708.0,5007.0,3836.0,11657.0,12461.0,216.0,13107.0,7580.0,12496.0,4746.0,13909.0,8434.0,128.0,417.0,5580.0,13361.0,7875.0,174.0,12363.0,8591.0,7049.0,1630.0,7942.0,12611.0,8802.0,13005.0,9662.0,6763.0,4516.0,12838.0,11453.0,12009.0,4036.0,1294.0,992.0,10137.0,13369.0,14126.0,12507.0,230.0,4166.0,10251.0,9229.0,6.0,4261.0],\"type\":\"bar\"}],                        {\"legend\":{\"bgcolor\":\"#FFFFFF\",\"font\":{\"color\":\"#4D5663\"}},\"paper_bgcolor\":\"#FFFFFF\",\"plot_bgcolor\":\"#FFFFFF\",\"template\":{\"data\":{\"barpolar\":[{\"marker\":{\"line\":{\"color\":\"#E5ECF6\",\"width\":0.5},\"pattern\":{\"fillmode\":\"overlay\",\"size\":10,\"solidity\":0.2}},\"type\":\"barpolar\"}],\"bar\":[{\"error_x\":{\"color\":\"#2a3f5f\"},\"error_y\":{\"color\":\"#2a3f5f\"},\"marker\":{\"line\":{\"color\":\"#E5ECF6\",\"width\":0.5},\"pattern\":{\"fillmode\":\"overlay\",\"size\":10,\"solidity\":0.2}},\"type\":\"bar\"}],\"carpet\":[{\"aaxis\":{\"endlinecolor\":\"#2a3f5f\",\"gridcolor\":\"white\",\"linecolor\":\"white\",\"minorgridcolor\":\"white\",\"startlinecolor\":\"#2a3f5f\"},\"baxis\":{\"endlinecolor\":\"#2a3f5f\",\"gridcolor\":\"white\",\"linecolor\":\"white\",\"minorgridcolor\":\"white\",\"startlinecolor\":\"#2a3f5f\"},\"type\":\"carpet\"}],\"choropleth\":[{\"colorbar\":{\"outlinewidth\":0,\"ticks\":\"\"},\"type\":\"choropleth\"}],\"contourcarpet\":[{\"colorbar\":{\"outlinewidth\":0,\"ticks\":\"\"},\"type\":\"contourcarpet\"}],\"contour\":[{\"colorbar\":{\"outlinewidth\":0,\"ticks\":\"\"},\"colorscale\":[[0.0,\"#0d0887\"],[0.1111111111111111,\"#46039f\"],[0.2222222222222222,\"#7201a8\"],[0.3333333333333333,\"#9c179e\"],[0.4444444444444444,\"#bd3786\"],[0.5555555555555556,\"#d8576b\"],[0.6666666666666666,\"#ed7953\"],[0.7777777777777778,\"#fb9f3a\"],[0.8888888888888888,\"#fdca26\"],[1.0,\"#f0f921\"]],\"type\":\"contour\"}],\"heatmapgl\":[{\"colorbar\":{\"outlinewidth\":0,\"ticks\":\"\"},\"colorscale\":[[0.0,\"#0d0887\"],[0.1111111111111111,\"#46039f\"],[0.2222222222222222,\"#7201a8\"],[0.3333333333333333,\"#9c179e\"],[0.4444444444444444,\"#bd3786\"],[0.5555555555555556,\"#d8576b\"],[0.6666666666666666,\"#ed7953\"],[0.7777777777777778,\"#fb9f3a\"],[0.8888888888888888,\"#fdca26\"],[1.0,\"#f0f921\"]],\"type\":\"heatmapgl\"}],\"heatmap\":[{\"colorbar\":{\"outlinewidth\":0,\"ticks\":\"\"},\"colorscale\":[[0.0,\"#0d0887\"],[0.1111111111111111,\"#46039f\"],[0.2222222222222222,\"#7201a8\"],[0.3333333333333333,\"#9c179e\"],[0.4444444444444444,\"#bd3786\"],[0.5555555555555556,\"#d8576b\"],[0.6666666666666666,\"#ed7953\"],[0.7777777777777778,\"#fb9f3a\"],[0.8888888888888888,\"#fdca26\"],[1.0,\"#f0f921\"]],\"type\":\"heatmap\"}],\"histogram2dcontour\":[{\"colorbar\":{\"outlinewidth\":0,\"ticks\":\"\"},\"colorscale\":[[0.0,\"#0d0887\"],[0.1111111111111111,\"#46039f\"],[0.2222222222222222,\"#7201a8\"],[0.3333333333333333,\"#9c179e\"],[0.4444444444444444,\"#bd3786\"],[0.5555555555555556,\"#d8576b\"],[0.6666666666666666,\"#ed7953\"],[0.7777777777777778,\"#fb9f3a\"],[0.8888888888888888,\"#fdca26\"],[1.0,\"#f0f921\"]],\"type\":\"histogram2dcontour\"}],\"histogram2d\":[{\"colorbar\":{\"outlinewidth\":0,\"ticks\":\"\"},\"colorscale\":[[0.0,\"#0d0887\"],[0.1111111111111111,\"#46039f\"],[0.2222222222222222,\"#7201a8\"],[0.3333333333333333,\"#9c179e\"],[0.4444444444444444,\"#bd3786\"],[0.5555555555555556,\"#d8576b\"],[0.6666666666666666,\"#ed7953\"],[0.7777777777777778,\"#fb9f3a\"],[0.8888888888888888,\"#fdca26\"],[1.0,\"#f0f921\"]],\"type\":\"histogram2d\"}],\"histogram\":[{\"marker\":{\"pattern\":{\"fillmode\":\"overlay\",\"size\":10,\"solidity\":0.2}},\"type\":\"histogram\"}],\"mesh3d\":[{\"colorbar\":{\"outlinewidth\":0,\"ticks\":\"\"},\"type\":\"mesh3d\"}],\"parcoords\":[{\"line\":{\"colorbar\":{\"outlinewidth\":0,\"ticks\":\"\"}},\"type\":\"parcoords\"}],\"pie\":[{\"automargin\":true,\"type\":\"pie\"}],\"scatter3d\":[{\"line\":{\"colorbar\":{\"outlinewidth\":0,\"ticks\":\"\"}},\"marker\":{\"colorbar\":{\"outlinewidth\":0,\"ticks\":\"\"}},\"type\":\"scatter3d\"}],\"scattercarpet\":[{\"marker\":{\"colorbar\":{\"outlinewidth\":0,\"ticks\":\"\"}},\"type\":\"scattercarpet\"}],\"scattergeo\":[{\"marker\":{\"colorbar\":{\"outlinewidth\":0,\"ticks\":\"\"}},\"type\":\"scattergeo\"}],\"scattergl\":[{\"marker\":{\"colorbar\":{\"outlinewidth\":0,\"ticks\":\"\"}},\"type\":\"scattergl\"}],\"scattermapbox\":[{\"marker\":{\"colorbar\":{\"outlinewidth\":0,\"ticks\":\"\"}},\"type\":\"scattermapbox\"}],\"scatterpolargl\":[{\"marker\":{\"colorbar\":{\"outlinewidth\":0,\"ticks\":\"\"}},\"type\":\"scatterpolargl\"}],\"scatterpolar\":[{\"marker\":{\"colorbar\":{\"outlinewidth\":0,\"ticks\":\"\"}},\"type\":\"scatterpolar\"}],\"scatter\":[{\"fillpattern\":{\"fillmode\":\"overlay\",\"size\":10,\"solidity\":0.2},\"type\":\"scatter\"}],\"scatterternary\":[{\"marker\":{\"colorbar\":{\"outlinewidth\":0,\"ticks\":\"\"}},\"type\":\"scatterternary\"}],\"surface\":[{\"colorbar\":{\"outlinewidth\":0,\"ticks\":\"\"},\"colorscale\":[[0.0,\"#0d0887\"],[0.1111111111111111,\"#46039f\"],[0.2222222222222222,\"#7201a8\"],[0.3333333333333333,\"#9c179e\"],[0.4444444444444444,\"#bd3786\"],[0.5555555555555556,\"#d8576b\"],[0.6666666666666666,\"#ed7953\"],[0.7777777777777778,\"#fb9f3a\"],[0.8888888888888888,\"#fdca26\"],[1.0,\"#f0f921\"]],\"type\":\"surface\"}],\"table\":[{\"cells\":{\"fill\":{\"color\":\"#EBF0F8\"},\"line\":{\"color\":\"white\"}},\"header\":{\"fill\":{\"color\":\"#C8D4E3\"},\"line\":{\"color\":\"white\"}},\"type\":\"table\"}]},\"layout\":{\"annotationdefaults\":{\"arrowcolor\":\"#2a3f5f\",\"arrowhead\":0,\"arrowwidth\":1},\"autotypenumbers\":\"strict\",\"coloraxis\":{\"colorbar\":{\"outlinewidth\":0,\"ticks\":\"\"}},\"colorscale\":{\"diverging\":[[0,\"#8e0152\"],[0.1,\"#c51b7d\"],[0.2,\"#de77ae\"],[0.3,\"#f1b6da\"],[0.4,\"#fde0ef\"],[0.5,\"#f7f7f7\"],[0.6,\"#e6f5d0\"],[0.7,\"#b8e186\"],[0.8,\"#7fbc41\"],[0.9,\"#4d9221\"],[1,\"#276419\"]],\"sequential\":[[0.0,\"#0d0887\"],[0.1111111111111111,\"#46039f\"],[0.2222222222222222,\"#7201a8\"],[0.3333333333333333,\"#9c179e\"],[0.4444444444444444,\"#bd3786\"],[0.5555555555555556,\"#d8576b\"],[0.6666666666666666,\"#ed7953\"],[0.7777777777777778,\"#fb9f3a\"],[0.8888888888888888,\"#fdca26\"],[1.0,\"#f0f921\"]],\"sequentialminus\":[[0.0,\"#0d0887\"],[0.1111111111111111,\"#46039f\"],[0.2222222222222222,\"#7201a8\"],[0.3333333333333333,\"#9c179e\"],[0.4444444444444444,\"#bd3786\"],[0.5555555555555556,\"#d8576b\"],[0.6666666666666666,\"#ed7953\"],[0.7777777777777778,\"#fb9f3a\"],[0.8888888888888888,\"#fdca26\"],[1.0,\"#f0f921\"]]},\"colorway\":[\"#636efa\",\"#EF553B\",\"#00cc96\",\"#ab63fa\",\"#FFA15A\",\"#19d3f3\",\"#FF6692\",\"#B6E880\",\"#FF97FF\",\"#FECB52\"],\"font\":{\"color\":\"#2a3f5f\"},\"geo\":{\"bgcolor\":\"white\",\"lakecolor\":\"white\",\"landcolor\":\"#E5ECF6\",\"showlakes\":true,\"showland\":true,\"subunitcolor\":\"white\"},\"hoverlabel\":{\"align\":\"left\"},\"hovermode\":\"closest\",\"mapbox\":{\"style\":\"light\"},\"paper_bgcolor\":\"white\",\"plot_bgcolor\":\"#E5ECF6\",\"polar\":{\"angularaxis\":{\"gridcolor\":\"white\",\"linecolor\":\"white\",\"ticks\":\"\"},\"bgcolor\":\"#E5ECF6\",\"radialaxis\":{\"gridcolor\":\"white\",\"linecolor\":\"white\",\"ticks\":\"\"}},\"scene\":{\"xaxis\":{\"backgroundcolor\":\"#E5ECF6\",\"gridcolor\":\"white\",\"gridwidth\":2,\"linecolor\":\"white\",\"showbackground\":true,\"ticks\":\"\",\"zerolinecolor\":\"white\"},\"yaxis\":{\"backgroundcolor\":\"#E5ECF6\",\"gridcolor\":\"white\",\"gridwidth\":2,\"linecolor\":\"white\",\"showbackground\":true,\"ticks\":\"\",\"zerolinecolor\":\"white\"},\"zaxis\":{\"backgroundcolor\":\"#E5ECF6\",\"gridcolor\":\"white\",\"gridwidth\":2,\"linecolor\":\"white\",\"showbackground\":true,\"ticks\":\"\",\"zerolinecolor\":\"white\"}},\"shapedefaults\":{\"line\":{\"color\":\"#2a3f5f\"}},\"ternary\":{\"aaxis\":{\"gridcolor\":\"white\",\"linecolor\":\"white\",\"ticks\":\"\"},\"baxis\":{\"gridcolor\":\"white\",\"linecolor\":\"white\",\"ticks\":\"\"},\"bgcolor\":\"#E5ECF6\",\"caxis\":{\"gridcolor\":\"white\",\"linecolor\":\"white\",\"ticks\":\"\"}},\"title\":{\"x\":0.05},\"xaxis\":{\"automargin\":true,\"gridcolor\":\"white\",\"linecolor\":\"white\",\"ticks\":\"\",\"title\":{\"standoff\":15},\"zerolinecolor\":\"white\",\"zerolinewidth\":2},\"yaxis\":{\"automargin\":true,\"gridcolor\":\"white\",\"linecolor\":\"white\",\"ticks\":\"\",\"title\":{\"standoff\":15},\"zerolinecolor\":\"white\",\"zerolinewidth\":2}}},\"title\":{\"font\":{\"color\":\"#4D5663\"},\"text\":\"Ocupaci\\u00f3n de camas durante la cuarentena \\\"lockdown\\\"\"},\"xaxis\":{\"gridcolor\":\"#E1E5ED\",\"showgrid\":true,\"tickfont\":{\"color\":\"#4D5663\"},\"title\":{\"font\":{\"color\":\"#4D5663\"},\"text\":\"Fecha\"},\"zerolinecolor\":\"#E1E5ED\"},\"yaxis\":{\"gridcolor\":\"#E1E5ED\",\"showgrid\":true,\"tickfont\":{\"color\":\"#4D5663\"},\"title\":{\"font\":{\"color\":\"#4D5663\"},\"text\":\"Cantidad de Internaciones\"},\"zerolinecolor\":\"#E1E5ED\"}},                        {\"showLink\": true, \"linkText\": \"Export to plot.ly\", \"plotlyServerURL\": \"https://plot.ly\", \"responsive\": true}                    ).then(function(){\n",
       "                            \n",
       "var gd = document.getElementById('62aa9fc5-e2a2-4dd5-bd4a-251ce6911a97');\n",
       "var x = new MutationObserver(function (mutations, observer) {{\n",
       "        var display = window.getComputedStyle(gd).display;\n",
       "        if (!display || display === 'none') {{\n",
       "            console.log([gd, 'removed!']);\n",
       "            Plotly.purge(gd);\n",
       "            observer.disconnect();\n",
       "        }}\n",
       "}});\n",
       "\n",
       "// Listen for the removal of the full notebook cells\n",
       "var notebookContainer = gd.closest('#notebook-container');\n",
       "if (notebookContainer) {{\n",
       "    x.observe(notebookContainer, {childList: true});\n",
       "}}\n",
       "\n",
       "// Listen for the clearing of the current output cell\n",
       "var outputEl = gd.closest('.output');\n",
       "if (outputEl) {{\n",
       "    x.observe(outputEl, {childList: true});\n",
       "}}\n",
       "\n",
       "                        })                };                });            </script>        </div>"
      ]
     },
     "metadata": {},
     "output_type": "display_data"
    }
   ],
   "source": [
    "OnlyNY.iplot(kind='bar',x='date',y='inpatient_beds_used_covid', xTitle='Fecha',yTitle='Cantidad de Internaciones',title='Ocupación de camas durante la cuarentena \"lockdown\"')"
   ]
  },
  {
   "cell_type": "code",
   "execution_count": 60,
   "metadata": {},
   "outputs": [
    {
     "name": "stderr",
     "output_type": "stream",
     "text": [
      "C:\\Users\\Public\\Documents\\Wondershare\\CreatorTemp\\ipykernel_2836\\3806398453.py:2: SettingWithCopyWarning: \n",
      "A value is trying to be set on a copy of a slice from a DataFrame.\n",
      "Try using .loc[row_indexer,col_indexer] = value instead\n",
      "\n",
      "See the caveats in the documentation: https://pandas.pydata.org/pandas-docs/stable/user_guide/indexing.html#returning-a-view-versus-a-copy\n",
      "  estados_icu_util['date'] = pd.to_datetime(estados_icu_util['date'])\n",
      "C:\\Users\\Public\\Documents\\Wondershare\\CreatorTemp\\ipykernel_2836\\3806398453.py:3: SettingWithCopyWarning: \n",
      "A value is trying to be set on a copy of a slice from a DataFrame.\n",
      "Try using .loc[row_indexer,col_indexer] = value instead\n",
      "\n",
      "See the caveats in the documentation: https://pandas.pydata.org/pandas-docs/stable/user_guide/indexing.html#returning-a-view-versus-a-copy\n",
      "  estados_icu_util['staffed_adult_icu_bed_occupancy_coverage']= pd.to_numeric(estados_icu_util['staffed_adult_icu_bed_occupancy_coverage'])\n"
     ]
    },
    {
     "data": {
      "text/plain": [
       "state\n",
       "TX    92645\n",
       "CA    63140\n",
       "FL    42304\n",
       "OH    32940\n",
       "PA    31315\n",
       "Name: staffed_adult_icu_bed_occupancy_coverage, dtype: int64"
      ]
     },
     "execution_count": 60,
     "metadata": {},
     "output_type": "execute_result"
    }
   ],
   "source": [
    "estados_icu_util = results_df[['date','state', 'staffed_adult_icu_bed_occupancy_coverage']]\n",
    "estados_icu_util['date'] = pd.to_datetime(estados_icu_util['date'])\n",
    "estados_icu_util['staffed_adult_icu_bed_occupancy_coverage']= pd.to_numeric(estados_icu_util['staffed_adult_icu_bed_occupancy_coverage'])\n",
    "#estados_icu_util.head()\n",
    "#estados_icu_util_2020 = estados_icu_util.query(\"date >= '2020-01-01' and date <='2020-12-31'\").groupby('state')['staffed_adult_icu_bed_occupancy_coverage'].sum()\n",
    "estados_icu_util_2020 = estados_icu_util.query(\"date >= '2020-01-01' and date <='2020-12-31'\").groupby('state')['staffed_adult_icu_bed_occupancy_coverage'].sum().sort_values(ascending=False).head(5)\n",
    "estados_icu_util_2020\n",
    "#resp3 = pd.DataFrame(estados_icu_util_2020.groupby('state')['staffed_adult_icu_bed_occupancy_coverage'].sum())\n",
    "#infectados = pd.DataFrame(ocupacion_estados_2020.groupby('state')['inpatient_beds_used_covid','hospital_onset_covid'].sum().sort_values(by='inpatient_beds_used_covid', ascending=False)).head(5)\n",
    "#resp3\n"
   ]
  },
  {
   "cell_type": "code",
   "execution_count": 84,
   "metadata": {},
   "outputs": [
    {
     "name": "stderr",
     "output_type": "stream",
     "text": [
      "C:\\Users\\Public\\Documents\\Wondershare\\CreatorTemp\\ipykernel_2836\\4080908971.py:2: SettingWithCopyWarning: \n",
      "A value is trying to be set on a copy of a slice from a DataFrame.\n",
      "Try using .loc[row_indexer,col_indexer] = value instead\n",
      "\n",
      "See the caveats in the documentation: https://pandas.pydata.org/pandas-docs/stable/user_guide/indexing.html#returning-a-view-versus-a-copy\n",
      "  pedriatricos['date'] = pd.to_datetime(pedriatricos['date'])\n",
      "C:\\Users\\Public\\Documents\\Wondershare\\CreatorTemp\\ipykernel_2836\\4080908971.py:3: SettingWithCopyWarning: \n",
      "A value is trying to be set on a copy of a slice from a DataFrame.\n",
      "Try using .loc[row_indexer,col_indexer] = value instead\n",
      "\n",
      "See the caveats in the documentation: https://pandas.pydata.org/pandas-docs/stable/user_guide/indexing.html#returning-a-view-versus-a-copy\n",
      "  pedriatricos['total_pediatric_patients_hospitalized_confirmed_covid_coverage']= pd.to_numeric(pedriatricos['total_pediatric_patients_hospitalized_confirmed_covid_coverage'])\n"
     ]
    },
    {
     "ename": "ValueError",
     "evalue": "Length of ndarray vectors must match length of `data` when both are used, but `data` has length 16446 and the vector passed to `hue` has length 5.",
     "output_type": "error",
     "traceback": [
      "\u001b[1;31m---------------------------------------------------------------------------\u001b[0m",
      "\u001b[1;31mValueError\u001b[0m                                Traceback (most recent call last)",
      "\u001b[1;32mc:\\Users\\tonym\\OneDrive\\Documentos\\Henry\\Data Science\\PI2\\Carlos_Matich2.ipynb Celda 20\u001b[0m in \u001b[0;36m<cell line: 14>\u001b[1;34m()\u001b[0m\n\u001b[0;32m     <a href='vscode-notebook-cell:/c%3A/Users/tonym/OneDrive/Documentos/Henry/Data%20Science/PI2/Carlos_Matich2.ipynb#X25sZmlsZQ%3D%3D?line=11'>12</a>\u001b[0m sns\u001b[39m.\u001b[39mset_theme(style\u001b[39m=\u001b[39m\u001b[39m\"\u001b[39m\u001b[39mdarkgrid\u001b[39m\u001b[39m\"\u001b[39m, context\u001b[39m=\u001b[39m\u001b[39m\"\u001b[39m\u001b[39mtalk\u001b[39m\u001b[39m\"\u001b[39m)\n\u001b[0;32m     <a href='vscode-notebook-cell:/c%3A/Users/tonym/OneDrive/Documentos/Henry/Data%20Science/PI2/Carlos_Matich2.ipynb#X25sZmlsZQ%3D%3D?line=12'>13</a>\u001b[0m sns\u001b[39m.\u001b[39mset(font_scale\u001b[39m=\u001b[39m\u001b[39m1.5\u001b[39m)\n\u001b[1;32m---> <a href='vscode-notebook-cell:/c%3A/Users/tonym/OneDrive/Documentos/Henry/Data%20Science/PI2/Carlos_Matich2.ipynb#X25sZmlsZQ%3D%3D?line=13'>14</a>\u001b[0m gNY \u001b[39m=\u001b[39m sns\u001b[39m.\u001b[39;49mrelplot(data\u001b[39m=\u001b[39;49mpediatricos_2020, x\u001b[39m=\u001b[39;49m\u001b[39m'\u001b[39;49m\u001b[39mdate\u001b[39;49m\u001b[39m'\u001b[39;49m,y\u001b[39m=\u001b[39;49m\u001b[39m'\u001b[39;49m\u001b[39mtotal_pediatric_patients_hospitalized_confirmed_covid_coverage\u001b[39;49m\u001b[39m'\u001b[39;49m,\n\u001b[0;32m     <a href='vscode-notebook-cell:/c%3A/Users/tonym/OneDrive/Documentos/Henry/Data%20Science/PI2/Carlos_Matich2.ipynb#X25sZmlsZQ%3D%3D?line=14'>15</a>\u001b[0m                         hue\u001b[39m=\u001b[39;49ma\u001b[39m.\u001b[39;49mindex\u001b[39m.\u001b[39;49mvalues,\n\u001b[0;32m     <a href='vscode-notebook-cell:/c%3A/Users/tonym/OneDrive/Documentos/Henry/Data%20Science/PI2/Carlos_Matich2.ipynb#X25sZmlsZQ%3D%3D?line=15'>16</a>\u001b[0m                         height\u001b[39m=\u001b[39;49m \u001b[39m8\u001b[39;49m,\n\u001b[0;32m     <a href='vscode-notebook-cell:/c%3A/Users/tonym/OneDrive/Documentos/Henry/Data%20Science/PI2/Carlos_Matich2.ipynb#X25sZmlsZQ%3D%3D?line=16'>17</a>\u001b[0m                         aspect\u001b[39m=\u001b[39;49m\u001b[39m2\u001b[39;49m, kind\u001b[39m=\u001b[39;49m\u001b[39m'\u001b[39;49m\u001b[39mline\u001b[39;49m\u001b[39m'\u001b[39;49m)\n\u001b[0;32m     <a href='vscode-notebook-cell:/c%3A/Users/tonym/OneDrive/Documentos/Henry/Data%20Science/PI2/Carlos_Matich2.ipynb#X25sZmlsZQ%3D%3D?line=18'>19</a>\u001b[0m gNY\u001b[39m.\u001b[39mfigure\u001b[39m.\u001b[39mautofmt_xdate(rotation\u001b[39m=\u001b[39m\u001b[39m90\u001b[39m)\n\u001b[0;32m     <a href='vscode-notebook-cell:/c%3A/Users/tonym/OneDrive/Documentos/Henry/Data%20Science/PI2/Carlos_Matich2.ipynb#X25sZmlsZQ%3D%3D?line=19'>20</a>\u001b[0m plt\u001b[39m.\u001b[39mxlabel(\u001b[39m'\u001b[39m\u001b[39mEstados\u001b[39m\u001b[39m'\u001b[39m, fontsize\u001b[39m=\u001b[39m\u001b[39m16\u001b[39m)\n",
      "File \u001b[1;32mc:\\Python39\\lib\\site-packages\\seaborn\\_decorators.py:46\u001b[0m, in \u001b[0;36m_deprecate_positional_args.<locals>.inner_f\u001b[1;34m(*args, **kwargs)\u001b[0m\n\u001b[0;32m     36\u001b[0m     warnings\u001b[39m.\u001b[39mwarn(\n\u001b[0;32m     37\u001b[0m         \u001b[39m\"\u001b[39m\u001b[39mPass the following variable\u001b[39m\u001b[39m{}\u001b[39;00m\u001b[39m as \u001b[39m\u001b[39m{}\u001b[39;00m\u001b[39mkeyword arg\u001b[39m\u001b[39m{}\u001b[39;00m\u001b[39m: \u001b[39m\u001b[39m{}\u001b[39;00m\u001b[39m. \u001b[39m\u001b[39m\"\u001b[39m\n\u001b[0;32m     38\u001b[0m         \u001b[39m\"\u001b[39m\u001b[39mFrom version 0.12, the only valid positional argument \u001b[39m\u001b[39m\"\u001b[39m\n\u001b[1;32m   (...)\u001b[0m\n\u001b[0;32m     43\u001b[0m         \u001b[39mFutureWarning\u001b[39;00m\n\u001b[0;32m     44\u001b[0m     )\n\u001b[0;32m     45\u001b[0m kwargs\u001b[39m.\u001b[39mupdate({k: arg \u001b[39mfor\u001b[39;00m k, arg \u001b[39min\u001b[39;00m \u001b[39mzip\u001b[39m(sig\u001b[39m.\u001b[39mparameters, args)})\n\u001b[1;32m---> 46\u001b[0m \u001b[39mreturn\u001b[39;00m f(\u001b[39m*\u001b[39m\u001b[39m*\u001b[39mkwargs)\n",
      "File \u001b[1;32mc:\\Python39\\lib\\site-packages\\seaborn\\relational.py:947\u001b[0m, in \u001b[0;36mrelplot\u001b[1;34m(x, y, hue, size, style, data, row, col, col_wrap, row_order, col_order, palette, hue_order, hue_norm, sizes, size_order, size_norm, markers, dashes, style_order, legend, kind, height, aspect, facet_kws, units, **kwargs)\u001b[0m\n\u001b[0;32m    944\u001b[0m     kwargs\u001b[39m.\u001b[39mpop(\u001b[39m\"\u001b[39m\u001b[39max\u001b[39m\u001b[39m\"\u001b[39m)\n\u001b[0;32m    946\u001b[0m \u001b[39m# Use the full dataset to map the semantics\u001b[39;00m\n\u001b[1;32m--> 947\u001b[0m p \u001b[39m=\u001b[39m plotter(\n\u001b[0;32m    948\u001b[0m     data\u001b[39m=\u001b[39;49mdata,\n\u001b[0;32m    949\u001b[0m     variables\u001b[39m=\u001b[39;49mplotter\u001b[39m.\u001b[39;49mget_semantics(\u001b[39mlocals\u001b[39;49m()),\n\u001b[0;32m    950\u001b[0m     legend\u001b[39m=\u001b[39;49mlegend,\n\u001b[0;32m    951\u001b[0m )\n\u001b[0;32m    952\u001b[0m p\u001b[39m.\u001b[39mmap_hue(palette\u001b[39m=\u001b[39mpalette, order\u001b[39m=\u001b[39mhue_order, norm\u001b[39m=\u001b[39mhue_norm)\n\u001b[0;32m    953\u001b[0m p\u001b[39m.\u001b[39mmap_size(sizes\u001b[39m=\u001b[39msizes, order\u001b[39m=\u001b[39msize_order, norm\u001b[39m=\u001b[39msize_norm)\n",
      "File \u001b[1;32mc:\\Python39\\lib\\site-packages\\seaborn\\relational.py:367\u001b[0m, in \u001b[0;36m_LinePlotter.__init__\u001b[1;34m(self, data, variables, estimator, ci, n_boot, seed, sort, err_style, err_kws, legend)\u001b[0m\n\u001b[0;32m    353\u001b[0m \u001b[39mdef\u001b[39;00m \u001b[39m__init__\u001b[39m(\n\u001b[0;32m    354\u001b[0m     \u001b[39mself\u001b[39m, \u001b[39m*\u001b[39m,\n\u001b[0;32m    355\u001b[0m     data\u001b[39m=\u001b[39m\u001b[39mNone\u001b[39;00m, variables\u001b[39m=\u001b[39m{},\n\u001b[1;32m   (...)\u001b[0m\n\u001b[0;32m    361\u001b[0m     \u001b[39m# the kind of plot to draw, but for the time being we need to set\u001b[39;00m\n\u001b[0;32m    362\u001b[0m     \u001b[39m# this information so the SizeMapping can use it\u001b[39;00m\n\u001b[0;32m    363\u001b[0m     \u001b[39mself\u001b[39m\u001b[39m.\u001b[39m_default_size_range \u001b[39m=\u001b[39m (\n\u001b[0;32m    364\u001b[0m         np\u001b[39m.\u001b[39mr_[\u001b[39m.5\u001b[39m, \u001b[39m2\u001b[39m] \u001b[39m*\u001b[39m mpl\u001b[39m.\u001b[39mrcParams[\u001b[39m\"\u001b[39m\u001b[39mlines.linewidth\u001b[39m\u001b[39m\"\u001b[39m]\n\u001b[0;32m    365\u001b[0m     )\n\u001b[1;32m--> 367\u001b[0m     \u001b[39msuper\u001b[39;49m()\u001b[39m.\u001b[39;49m\u001b[39m__init__\u001b[39;49m(data\u001b[39m=\u001b[39;49mdata, variables\u001b[39m=\u001b[39;49mvariables)\n\u001b[0;32m    369\u001b[0m     \u001b[39mself\u001b[39m\u001b[39m.\u001b[39mestimator \u001b[39m=\u001b[39m estimator\n\u001b[0;32m    370\u001b[0m     \u001b[39mself\u001b[39m\u001b[39m.\u001b[39mci \u001b[39m=\u001b[39m ci\n",
      "File \u001b[1;32mc:\\Python39\\lib\\site-packages\\seaborn\\_core.py:605\u001b[0m, in \u001b[0;36mVectorPlotter.__init__\u001b[1;34m(self, data, variables)\u001b[0m\n\u001b[0;32m    603\u001b[0m \u001b[39mdef\u001b[39;00m \u001b[39m__init__\u001b[39m(\u001b[39mself\u001b[39m, data\u001b[39m=\u001b[39m\u001b[39mNone\u001b[39;00m, variables\u001b[39m=\u001b[39m{}):\n\u001b[1;32m--> 605\u001b[0m     \u001b[39mself\u001b[39;49m\u001b[39m.\u001b[39;49massign_variables(data, variables)\n\u001b[0;32m    607\u001b[0m     \u001b[39mfor\u001b[39;00m var, \u001b[39mcls\u001b[39m \u001b[39min\u001b[39;00m \u001b[39mself\u001b[39m\u001b[39m.\u001b[39m_semantic_mappings\u001b[39m.\u001b[39mitems():\n\u001b[0;32m    608\u001b[0m \n\u001b[0;32m    609\u001b[0m         \u001b[39m# Create the mapping function\u001b[39;00m\n\u001b[0;32m    610\u001b[0m         map_func \u001b[39m=\u001b[39m partial(\u001b[39mcls\u001b[39m\u001b[39m.\u001b[39mmap, plotter\u001b[39m=\u001b[39m\u001b[39mself\u001b[39m)\n",
      "File \u001b[1;32mc:\\Python39\\lib\\site-packages\\seaborn\\_core.py:668\u001b[0m, in \u001b[0;36mVectorPlotter.assign_variables\u001b[1;34m(self, data, variables)\u001b[0m\n\u001b[0;32m    666\u001b[0m \u001b[39melse\u001b[39;00m:\n\u001b[0;32m    667\u001b[0m     \u001b[39mself\u001b[39m\u001b[39m.\u001b[39minput_format \u001b[39m=\u001b[39m \u001b[39m\"\u001b[39m\u001b[39mlong\u001b[39m\u001b[39m\"\u001b[39m\n\u001b[1;32m--> 668\u001b[0m     plot_data, variables \u001b[39m=\u001b[39m \u001b[39mself\u001b[39m\u001b[39m.\u001b[39m_assign_variables_longform(\n\u001b[0;32m    669\u001b[0m         data, \u001b[39m*\u001b[39m\u001b[39m*\u001b[39mvariables,\n\u001b[0;32m    670\u001b[0m     )\n\u001b[0;32m    672\u001b[0m \u001b[39mself\u001b[39m\u001b[39m.\u001b[39mplot_data \u001b[39m=\u001b[39m plot_data\n\u001b[0;32m    673\u001b[0m \u001b[39mself\u001b[39m\u001b[39m.\u001b[39mvariables \u001b[39m=\u001b[39m variables\n",
      "File \u001b[1;32mc:\\Python39\\lib\\site-packages\\seaborn\\_core.py:918\u001b[0m, in \u001b[0;36mVectorPlotter._assign_variables_longform\u001b[1;34m(self, data, **kwargs)\u001b[0m\n\u001b[0;32m    912\u001b[0m         val_cls \u001b[39m=\u001b[39m val\u001b[39m.\u001b[39m\u001b[39m__class__\u001b[39m\u001b[39m.\u001b[39m\u001b[39m__name__\u001b[39m\n\u001b[0;32m    913\u001b[0m         err \u001b[39m=\u001b[39m (\n\u001b[0;32m    914\u001b[0m             \u001b[39mf\u001b[39m\u001b[39m\"\u001b[39m\u001b[39mLength of \u001b[39m\u001b[39m{\u001b[39;00mval_cls\u001b[39m}\u001b[39;00m\u001b[39m vectors must match length of `data`\u001b[39m\u001b[39m\"\u001b[39m\n\u001b[0;32m    915\u001b[0m             \u001b[39mf\u001b[39m\u001b[39m\"\u001b[39m\u001b[39m when both are used, but `data` has length \u001b[39m\u001b[39m{\u001b[39;00m\u001b[39mlen\u001b[39m(data)\u001b[39m}\u001b[39;00m\u001b[39m\"\u001b[39m\n\u001b[0;32m    916\u001b[0m             \u001b[39mf\u001b[39m\u001b[39m\"\u001b[39m\u001b[39m and the vector passed to `\u001b[39m\u001b[39m{\u001b[39;00mkey\u001b[39m}\u001b[39;00m\u001b[39m` has length \u001b[39m\u001b[39m{\u001b[39;00m\u001b[39mlen\u001b[39m(val)\u001b[39m}\u001b[39;00m\u001b[39m.\u001b[39m\u001b[39m\"\u001b[39m\n\u001b[0;32m    917\u001b[0m         )\n\u001b[1;32m--> 918\u001b[0m         \u001b[39mraise\u001b[39;00m \u001b[39mValueError\u001b[39;00m(err)\n\u001b[0;32m    920\u001b[0m plot_data[key] \u001b[39m=\u001b[39m val\n\u001b[0;32m    922\u001b[0m \u001b[39m# Try to infer the name of the variable\u001b[39;00m\n",
      "\u001b[1;31mValueError\u001b[0m: Length of ndarray vectors must match length of `data` when both are used, but `data` has length 16446 and the vector passed to `hue` has length 5."
     ]
    }
   ],
   "source": [
    "pedriatricos = results_df[['date','state', 'total_pediatric_patients_hospitalized_confirmed_covid_coverage']]\n",
    "pedriatricos['date'] = pd.to_datetime(pedriatricos['date'])\n",
    "pedriatricos['total_pediatric_patients_hospitalized_confirmed_covid_coverage']= pd.to_numeric(pedriatricos['total_pediatric_patients_hospitalized_confirmed_covid_coverage'])\n",
    "pedriatricos.head()\n",
    "pediatricos_2020 = pedriatricos.query(\"date >= '2020-01-01' and date <='2020-12-31'\")\n",
    "a = pediatricos_2020.groupby('state')['total_pediatric_patients_hospitalized_confirmed_covid_coverage'].sum().sort_values(ascending=False).head(5)\n",
    "#a\n",
    "pediatricos_2020\n",
    "\n",
    "x_pedriatricos = pediatricos_2020['date']\n",
    "y_pediatricos = pediatricos_2020['total_pediatric_patients_hospitalized_confirmed_covid_coverage']\n",
    "sns.set_theme(style=\"darkgrid\", context=\"talk\")\n",
    "sns.set(font_scale=1.5)\n",
    "gNY = sns.relplot(data=pediatricos_2020, x='date',y='total_pediatric_patients_hospitalized_confirmed_covid_coverage',\n",
    "                        hue=a.index.values,\n",
    "                        height= 8,\n",
    "                        aspect=2, kind='line')\n",
    "\n",
    "gNY.figure.autofmt_xdate(rotation=90)\n",
    "plt.xlabel('Estados', fontsize=16)\n",
    "plt.ylabel('Camas Ocupadas', fontsize=16)\n",
    "plt.title('Ocupación de camas de Unidad de Cuidados Intensivos (UCI) durante el 2020', fontsize=20)\n",
    "plt.show();\n",
    "#st.pyplot(gNY)"
   ]
  },
  {
   "cell_type": "code",
   "execution_count": null,
   "metadata": {},
   "outputs": [],
   "source": [
    "#df_mask=df['Sales']==300\n",
    "#filtered_df = df[df_mask]\n",
    "mascara = ((pediatricos_2020['state'] == a.index[0]) or (pediatricos_2020['state'] == a.index[1]))\n",
    "#mascara\n",
    "print(a.index[0])\n",
    "print(a.index[1])\n",
    "print(a.index[2])\n",
    "print(a.index[3])\n",
    "print(a.index[4])\n"
   ]
  },
  {
   "cell_type": "code",
   "execution_count": 101,
   "metadata": {},
   "outputs": [
    {
     "data": {
      "text/html": [
       "<div>\n",
       "<style scoped>\n",
       "    .dataframe tbody tr th:only-of-type {\n",
       "        vertical-align: middle;\n",
       "    }\n",
       "\n",
       "    .dataframe tbody tr th {\n",
       "        vertical-align: top;\n",
       "    }\n",
       "\n",
       "    .dataframe thead th {\n",
       "        text-align: right;\n",
       "    }\n",
       "</style>\n",
       "<table border=\"1\" class=\"dataframe\">\n",
       "  <thead>\n",
       "    <tr style=\"text-align: right;\">\n",
       "      <th></th>\n",
       "      <th>date</th>\n",
       "      <th>state</th>\n",
       "      <th>total_pediatric_patients_hospitalized_confirmed_covid_coverage</th>\n",
       "    </tr>\n",
       "  </thead>\n",
       "  <tbody>\n",
       "    <tr>\n",
       "      <th>588</th>\n",
       "      <td>2020-07-19</td>\n",
       "      <td>PA</td>\n",
       "      <td>118</td>\n",
       "    </tr>\n",
       "    <tr>\n",
       "      <th>598</th>\n",
       "      <td>2020-06-24</td>\n",
       "      <td>OH</td>\n",
       "      <td>0</td>\n",
       "    </tr>\n",
       "    <tr>\n",
       "      <th>608</th>\n",
       "      <td>2020-06-23</td>\n",
       "      <td>OH</td>\n",
       "      <td>0</td>\n",
       "    </tr>\n",
       "    <tr>\n",
       "      <th>631</th>\n",
       "      <td>2020-10-14</td>\n",
       "      <td>CA</td>\n",
       "      <td>389</td>\n",
       "    </tr>\n",
       "    <tr>\n",
       "      <th>636</th>\n",
       "      <td>2020-11-19</td>\n",
       "      <td>TX</td>\n",
       "      <td>580</td>\n",
       "    </tr>\n",
       "    <tr>\n",
       "      <th>...</th>\n",
       "      <td>...</td>\n",
       "      <td>...</td>\n",
       "      <td>...</td>\n",
       "    </tr>\n",
       "    <tr>\n",
       "      <th>43306</th>\n",
       "      <td>2020-12-31</td>\n",
       "      <td>TX</td>\n",
       "      <td>585</td>\n",
       "    </tr>\n",
       "    <tr>\n",
       "      <th>44958</th>\n",
       "      <td>2020-12-31</td>\n",
       "      <td>CA</td>\n",
       "      <td>410</td>\n",
       "    </tr>\n",
       "    <tr>\n",
       "      <th>45149</th>\n",
       "      <td>2020-12-29</td>\n",
       "      <td>TX</td>\n",
       "      <td>582</td>\n",
       "    </tr>\n",
       "    <tr>\n",
       "      <th>46210</th>\n",
       "      <td>2020-12-29</td>\n",
       "      <td>PA</td>\n",
       "      <td>185</td>\n",
       "    </tr>\n",
       "    <tr>\n",
       "      <th>46358</th>\n",
       "      <td>2020-12-30</td>\n",
       "      <td>TX</td>\n",
       "      <td>585</td>\n",
       "    </tr>\n",
       "  </tbody>\n",
       "</table>\n",
       "<p>1584 rows × 3 columns</p>\n",
       "</div>"
      ],
      "text/plain": [
       "            date state  \\\n",
       "588   2020-07-19    PA   \n",
       "598   2020-06-24    OH   \n",
       "608   2020-06-23    OH   \n",
       "631   2020-10-14    CA   \n",
       "636   2020-11-19    TX   \n",
       "...          ...   ...   \n",
       "43306 2020-12-31    TX   \n",
       "44958 2020-12-31    CA   \n",
       "45149 2020-12-29    TX   \n",
       "46210 2020-12-29    PA   \n",
       "46358 2020-12-30    TX   \n",
       "\n",
       "       total_pediatric_patients_hospitalized_confirmed_covid_coverage  \n",
       "588                                                  118               \n",
       "598                                                    0               \n",
       "608                                                    0               \n",
       "631                                                  389               \n",
       "636                                                  580               \n",
       "...                                                  ...               \n",
       "43306                                                585               \n",
       "44958                                                410               \n",
       "45149                                                582               \n",
       "46210                                                185               \n",
       "46358                                                585               \n",
       "\n",
       "[1584 rows x 3 columns]"
      ]
     },
     "execution_count": 101,
     "metadata": {},
     "output_type": "execute_result"
    }
   ],
   "source": [
    "mascara = pediatricos_2020[pediatricos_2020['state'].isin(a.index)]\n",
    "#print(df)\n",
    "#pediatricos_2020[mascara]\n",
    "mascara"
   ]
  },
  {
   "cell_type": "code",
   "execution_count": 131,
   "metadata": {},
   "outputs": [
    {
     "name": "stderr",
     "output_type": "stream",
     "text": [
      "C:\\Users\\Public\\Documents\\Wondershare\\CreatorTemp\\ipykernel_2836\\1393117051.py:2: SettingWithCopyWarning: \n",
      "A value is trying to be set on a copy of a slice from a DataFrame.\n",
      "Try using .loc[row_indexer,col_indexer] = value instead\n",
      "\n",
      "See the caveats in the documentation: https://pandas.pydata.org/pandas-docs/stable/user_guide/indexing.html#returning-a-view-versus-a-copy\n",
      "  pedriatricos['date'] = pd.to_datetime(pedriatricos['date'])\n",
      "C:\\Users\\Public\\Documents\\Wondershare\\CreatorTemp\\ipykernel_2836\\1393117051.py:3: SettingWithCopyWarning: \n",
      "A value is trying to be set on a copy of a slice from a DataFrame.\n",
      "Try using .loc[row_indexer,col_indexer] = value instead\n",
      "\n",
      "See the caveats in the documentation: https://pandas.pydata.org/pandas-docs/stable/user_guide/indexing.html#returning-a-view-versus-a-copy\n",
      "  pedriatricos['total_pediatric_patients_hospitalized_confirmed_covid_coverage']= pd.to_numeric(pedriatricos['total_pediatric_patients_hospitalized_confirmed_covid_coverage'])\n"
     ]
    },
    {
     "ename": "KeyError",
     "evalue": "'date'",
     "output_type": "error",
     "traceback": [
      "\u001b[1;31m---------------------------------------------------------------------------\u001b[0m",
      "\u001b[1;31mKeyError\u001b[0m                                  Traceback (most recent call last)",
      "File \u001b[1;32mc:\\Python39\\lib\\site-packages\\pandas\\core\\indexes\\base.py:3621\u001b[0m, in \u001b[0;36mIndex.get_loc\u001b[1;34m(self, key, method, tolerance)\u001b[0m\n\u001b[0;32m   3620\u001b[0m \u001b[39mtry\u001b[39;00m:\n\u001b[1;32m-> 3621\u001b[0m     \u001b[39mreturn\u001b[39;00m \u001b[39mself\u001b[39;49m\u001b[39m.\u001b[39;49m_engine\u001b[39m.\u001b[39;49mget_loc(casted_key)\n\u001b[0;32m   3622\u001b[0m \u001b[39mexcept\u001b[39;00m \u001b[39mKeyError\u001b[39;00m \u001b[39mas\u001b[39;00m err:\n",
      "File \u001b[1;32mc:\\Python39\\lib\\site-packages\\pandas\\_libs\\index.pyx:136\u001b[0m, in \u001b[0;36mpandas._libs.index.IndexEngine.get_loc\u001b[1;34m()\u001b[0m\n",
      "File \u001b[1;32mc:\\Python39\\lib\\site-packages\\pandas\\_libs\\index.pyx:163\u001b[0m, in \u001b[0;36mpandas._libs.index.IndexEngine.get_loc\u001b[1;34m()\u001b[0m\n",
      "File \u001b[1;32mpandas\\_libs\\hashtable_class_helper.pxi:5198\u001b[0m, in \u001b[0;36mpandas._libs.hashtable.PyObjectHashTable.get_item\u001b[1;34m()\u001b[0m\n",
      "File \u001b[1;32mpandas\\_libs\\hashtable_class_helper.pxi:5206\u001b[0m, in \u001b[0;36mpandas._libs.hashtable.PyObjectHashTable.get_item\u001b[1;34m()\u001b[0m\n",
      "\u001b[1;31mKeyError\u001b[0m: 'date'",
      "\nThe above exception was the direct cause of the following exception:\n",
      "\u001b[1;31mKeyError\u001b[0m                                  Traceback (most recent call last)",
      "\u001b[1;32mc:\\Users\\tonym\\OneDrive\\Documentos\\Henry\\Data Science\\PI2\\Carlos_Matich2.ipynb Celda 23\u001b[0m in \u001b[0;36m<cell line: 10>\u001b[1;34m()\u001b[0m\n\u001b[0;32m      <a href='vscode-notebook-cell:/c%3A/Users/tonym/OneDrive/Documentos/Henry/Data%20Science/PI2/Carlos_Matich2.ipynb#X32sZmlsZQ%3D%3D?line=6'>7</a>\u001b[0m \u001b[39m#a\u001b[39;00m\n\u001b[0;32m      <a href='vscode-notebook-cell:/c%3A/Users/tonym/OneDrive/Documentos/Henry/Data%20Science/PI2/Carlos_Matich2.ipynb#X32sZmlsZQ%3D%3D?line=7'>8</a>\u001b[0m pediatricos_2020\n\u001b[1;32m---> <a href='vscode-notebook-cell:/c%3A/Users/tonym/OneDrive/Documentos/Henry/Data%20Science/PI2/Carlos_Matich2.ipynb#X32sZmlsZQ%3D%3D?line=9'>10</a>\u001b[0m x_pedriatricos \u001b[39m=\u001b[39m mascara[\u001b[39m'\u001b[39;49m\u001b[39mdate\u001b[39;49m\u001b[39m'\u001b[39;49m]\n\u001b[0;32m     <a href='vscode-notebook-cell:/c%3A/Users/tonym/OneDrive/Documentos/Henry/Data%20Science/PI2/Carlos_Matich2.ipynb#X32sZmlsZQ%3D%3D?line=10'>11</a>\u001b[0m y_pediatricos \u001b[39m=\u001b[39m mascara[\u001b[39m'\u001b[39m\u001b[39mtotal_pediatric_patients_hospitalized_confirmed_covid_coverage\u001b[39m\u001b[39m'\u001b[39m]\n\u001b[0;32m     <a href='vscode-notebook-cell:/c%3A/Users/tonym/OneDrive/Documentos/Henry/Data%20Science/PI2/Carlos_Matich2.ipynb#X32sZmlsZQ%3D%3D?line=11'>12</a>\u001b[0m sns\u001b[39m.\u001b[39mset_theme(style\u001b[39m=\u001b[39m\u001b[39m\"\u001b[39m\u001b[39mdarkgrid\u001b[39m\u001b[39m\"\u001b[39m, context\u001b[39m=\u001b[39m\u001b[39m\"\u001b[39m\u001b[39mtalk\u001b[39m\u001b[39m\"\u001b[39m)\n",
      "File \u001b[1;32mc:\\Python39\\lib\\site-packages\\pandas\\core\\series.py:958\u001b[0m, in \u001b[0;36mSeries.__getitem__\u001b[1;34m(self, key)\u001b[0m\n\u001b[0;32m    955\u001b[0m     \u001b[39mreturn\u001b[39;00m \u001b[39mself\u001b[39m\u001b[39m.\u001b[39m_values[key]\n\u001b[0;32m    957\u001b[0m \u001b[39melif\u001b[39;00m key_is_scalar:\n\u001b[1;32m--> 958\u001b[0m     \u001b[39mreturn\u001b[39;00m \u001b[39mself\u001b[39;49m\u001b[39m.\u001b[39;49m_get_value(key)\n\u001b[0;32m    960\u001b[0m \u001b[39mif\u001b[39;00m is_hashable(key):\n\u001b[0;32m    961\u001b[0m     \u001b[39m# Otherwise index.get_value will raise InvalidIndexError\u001b[39;00m\n\u001b[0;32m    962\u001b[0m     \u001b[39mtry\u001b[39;00m:\n\u001b[0;32m    963\u001b[0m         \u001b[39m# For labels that don't resolve as scalars like tuples and frozensets\u001b[39;00m\n",
      "File \u001b[1;32mc:\\Python39\\lib\\site-packages\\pandas\\core\\series.py:1069\u001b[0m, in \u001b[0;36mSeries._get_value\u001b[1;34m(self, label, takeable)\u001b[0m\n\u001b[0;32m   1066\u001b[0m     \u001b[39mreturn\u001b[39;00m \u001b[39mself\u001b[39m\u001b[39m.\u001b[39m_values[label]\n\u001b[0;32m   1068\u001b[0m \u001b[39m# Similar to Index.get_value, but we do not fall back to positional\u001b[39;00m\n\u001b[1;32m-> 1069\u001b[0m loc \u001b[39m=\u001b[39m \u001b[39mself\u001b[39;49m\u001b[39m.\u001b[39;49mindex\u001b[39m.\u001b[39;49mget_loc(label)\n\u001b[0;32m   1070\u001b[0m \u001b[39mreturn\u001b[39;00m \u001b[39mself\u001b[39m\u001b[39m.\u001b[39mindex\u001b[39m.\u001b[39m_get_values_for_loc(\u001b[39mself\u001b[39m, loc, label)\n",
      "File \u001b[1;32mc:\\Python39\\lib\\site-packages\\pandas\\core\\indexes\\base.py:3623\u001b[0m, in \u001b[0;36mIndex.get_loc\u001b[1;34m(self, key, method, tolerance)\u001b[0m\n\u001b[0;32m   3621\u001b[0m     \u001b[39mreturn\u001b[39;00m \u001b[39mself\u001b[39m\u001b[39m.\u001b[39m_engine\u001b[39m.\u001b[39mget_loc(casted_key)\n\u001b[0;32m   3622\u001b[0m \u001b[39mexcept\u001b[39;00m \u001b[39mKeyError\u001b[39;00m \u001b[39mas\u001b[39;00m err:\n\u001b[1;32m-> 3623\u001b[0m     \u001b[39mraise\u001b[39;00m \u001b[39mKeyError\u001b[39;00m(key) \u001b[39mfrom\u001b[39;00m \u001b[39merr\u001b[39;00m\n\u001b[0;32m   3624\u001b[0m \u001b[39mexcept\u001b[39;00m \u001b[39mTypeError\u001b[39;00m:\n\u001b[0;32m   3625\u001b[0m     \u001b[39m# If we have a listlike key, _check_indexing_error will raise\u001b[39;00m\n\u001b[0;32m   3626\u001b[0m     \u001b[39m#  InvalidIndexError. Otherwise we fall through and re-raise\u001b[39;00m\n\u001b[0;32m   3627\u001b[0m     \u001b[39m#  the TypeError.\u001b[39;00m\n\u001b[0;32m   3628\u001b[0m     \u001b[39mself\u001b[39m\u001b[39m.\u001b[39m_check_indexing_error(key)\n",
      "\u001b[1;31mKeyError\u001b[0m: 'date'"
     ]
    }
   ],
   "source": [
    "pedriatricos = results_df[['date','state', 'total_pediatric_patients_hospitalized_confirmed_covid_coverage']]\n",
    "pedriatricos['date'] = pd.to_datetime(pedriatricos['date'])\n",
    "pedriatricos['total_pediatric_patients_hospitalized_confirmed_covid_coverage']= pd.to_numeric(pedriatricos['total_pediatric_patients_hospitalized_confirmed_covid_coverage'])\n",
    "pedriatricos.head()\n",
    "pediatricos_2020 = pedriatricos.query(\"date >= '2020-01-01' and date <='2020-12-31'\")\n",
    "mascara = pediatricos_2020.groupby('state')['total_pediatric_patients_hospitalized_confirmed_covid_coverage'].sum().sort_values(ascending=False).head(5)\n",
    "#a\n",
    "pediatricos_2020\n",
    "\n",
    "x_pedriatricos = mascara['date']\n",
    "y_pediatricos = mascara['total_pediatric_patients_hospitalized_confirmed_covid_coverage']\n",
    "sns.set_theme(style=\"darkgrid\", context=\"talk\")\n",
    "sns.set(font_scale=1.5)\n",
    "gNY = sns.relplot(data=mascara, x=x_pedriatricos,y=y_pediatricos,\n",
    "                        hue='state',\n",
    "                        height= 8,\n",
    "                        aspect=2, kind='line')\n",
    "\n",
    "gNY.figure.autofmt_xdate(rotation=90)\n",
    "plt.xlabel('Estados', fontsize=16)\n",
    "plt.ylabel('Camas Ocupadas', fontsize=16)\n",
    "plt.title('Ocupación de camas de Unidad de Cuidados Intensivos (UCI) durante el 2020', fontsize=20)\n",
    "plt.show();"
   ]
  },
  {
   "cell_type": "markdown",
   "metadata": {},
   "source": [
    "punto 5"
   ]
  },
  {
   "cell_type": "code",
   "execution_count": 120,
   "metadata": {},
   "outputs": [
    {
     "name": "stderr",
     "output_type": "stream",
     "text": [
      "C:\\Users\\Public\\Documents\\Wondershare\\CreatorTemp\\ipykernel_2836\\1702295239.py:3: SettingWithCopyWarning: \n",
      "A value is trying to be set on a copy of a slice from a DataFrame.\n",
      "Try using .loc[row_indexer,col_indexer] = value instead\n",
      "\n",
      "See the caveats in the documentation: https://pandas.pydata.org/pandas-docs/stable/user_guide/indexing.html#returning-a-view-versus-a-copy\n",
      "  icu_ocupacion['total_staffed_adult_icu_beds'] = pd.to_numeric(icu_ocupacion['total_staffed_adult_icu_beds'])\n",
      "C:\\Users\\Public\\Documents\\Wondershare\\CreatorTemp\\ipykernel_2836\\1702295239.py:4: SettingWithCopyWarning: \n",
      "A value is trying to be set on a copy of a slice from a DataFrame.\n",
      "Try using .loc[row_indexer,col_indexer] = value instead\n",
      "\n",
      "See the caveats in the documentation: https://pandas.pydata.org/pandas-docs/stable/user_guide/indexing.html#returning-a-view-versus-a-copy\n",
      "  icu_ocupacion['staffed_icu_adult_patients_confirmed_covid'] = pd.to_numeric(icu_ocupacion['staffed_icu_adult_patients_confirmed_covid'])\n",
      "C:\\Users\\Public\\Documents\\Wondershare\\CreatorTemp\\ipykernel_2836\\1702295239.py:5: SettingWithCopyWarning: \n",
      "A value is trying to be set on a copy of a slice from a DataFrame.\n",
      "Try using .loc[row_indexer,col_indexer] = value instead\n",
      "\n",
      "See the caveats in the documentation: https://pandas.pydata.org/pandas-docs/stable/user_guide/indexing.html#returning-a-view-versus-a-copy\n",
      "  icu_ocupacion['total_staffed_pediatric_icu_beds'] = pd.to_numeric(icu_ocupacion['total_staffed_pediatric_icu_beds'])\n",
      "C:\\Users\\Public\\Documents\\Wondershare\\CreatorTemp\\ipykernel_2836\\1702295239.py:6: SettingWithCopyWarning: \n",
      "A value is trying to be set on a copy of a slice from a DataFrame.\n",
      "Try using .loc[row_indexer,col_indexer] = value instead\n",
      "\n",
      "See the caveats in the documentation: https://pandas.pydata.org/pandas-docs/stable/user_guide/indexing.html#returning-a-view-versus-a-copy\n",
      "  icu_ocupacion['staffed_icu_pediatric_patients_confirmed_covid'] = pd.to_numeric(icu_ocupacion['staffed_icu_pediatric_patients_confirmed_covid'])\n",
      "C:\\Users\\Public\\Documents\\Wondershare\\CreatorTemp\\ipykernel_2836\\1702295239.py:7: SettingWithCopyWarning: \n",
      "A value is trying to be set on a copy of a slice from a DataFrame.\n",
      "Try using .loc[row_indexer,col_indexer] = value instead\n",
      "\n",
      "See the caveats in the documentation: https://pandas.pydata.org/pandas-docs/stable/user_guide/indexing.html#returning-a-view-versus-a-copy\n",
      "  icu_ocupacion['date'] = pd.to_datetime(icu_ocupacion['date'])\n"
     ]
    },
    {
     "data": {
      "text/html": [
       "<div>\n",
       "<style scoped>\n",
       "    .dataframe tbody tr th:only-of-type {\n",
       "        vertical-align: middle;\n",
       "    }\n",
       "\n",
       "    .dataframe tbody tr th {\n",
       "        vertical-align: top;\n",
       "    }\n",
       "\n",
       "    .dataframe thead th {\n",
       "        text-align: right;\n",
       "    }\n",
       "</style>\n",
       "<table border=\"1\" class=\"dataframe\">\n",
       "  <thead>\n",
       "    <tr style=\"text-align: right;\">\n",
       "      <th></th>\n",
       "      <th>date</th>\n",
       "      <th>state</th>\n",
       "      <th>total_staffed_adult_icu_beds</th>\n",
       "      <th>staffed_icu_adult_patients_confirmed_covid</th>\n",
       "      <th>total_staffed_pediatric_icu_beds</th>\n",
       "      <th>staffed_icu_pediatric_patients_confirmed_covid</th>\n",
       "    </tr>\n",
       "  </thead>\n",
       "  <tbody>\n",
       "    <tr>\n",
       "      <th>0</th>\n",
       "      <td>2020-10-16</td>\n",
       "      <td>VI</td>\n",
       "      <td>20.0</td>\n",
       "      <td>1.0</td>\n",
       "      <td>NaN</td>\n",
       "      <td>NaN</td>\n",
       "    </tr>\n",
       "    <tr>\n",
       "      <th>1</th>\n",
       "      <td>2020-10-15</td>\n",
       "      <td>VI</td>\n",
       "      <td>20.0</td>\n",
       "      <td>1.0</td>\n",
       "      <td>NaN</td>\n",
       "      <td>NaN</td>\n",
       "    </tr>\n",
       "    <tr>\n",
       "      <th>2</th>\n",
       "      <td>2020-10-12</td>\n",
       "      <td>RI</td>\n",
       "      <td>173.0</td>\n",
       "      <td>14.0</td>\n",
       "      <td>0.0</td>\n",
       "      <td>0.0</td>\n",
       "    </tr>\n",
       "    <tr>\n",
       "      <th>3</th>\n",
       "      <td>2020-10-11</td>\n",
       "      <td>VI</td>\n",
       "      <td>20.0</td>\n",
       "      <td>1.0</td>\n",
       "      <td>NaN</td>\n",
       "      <td>NaN</td>\n",
       "    </tr>\n",
       "    <tr>\n",
       "      <th>4</th>\n",
       "      <td>2020-10-08</td>\n",
       "      <td>VI</td>\n",
       "      <td>20.0</td>\n",
       "      <td>1.0</td>\n",
       "      <td>NaN</td>\n",
       "      <td>NaN</td>\n",
       "    </tr>\n",
       "    <tr>\n",
       "      <th>...</th>\n",
       "      <td>...</td>\n",
       "      <td>...</td>\n",
       "      <td>...</td>\n",
       "      <td>...</td>\n",
       "      <td>...</td>\n",
       "      <td>...</td>\n",
       "    </tr>\n",
       "    <tr>\n",
       "      <th>46140</th>\n",
       "      <td>2020-12-30</td>\n",
       "      <td>AR</td>\n",
       "      <td>1047.0</td>\n",
       "      <td>331.0</td>\n",
       "      <td>415.0</td>\n",
       "      <td>NaN</td>\n",
       "    </tr>\n",
       "    <tr>\n",
       "      <th>46169</th>\n",
       "      <td>2020-12-28</td>\n",
       "      <td>AR</td>\n",
       "      <td>1026.0</td>\n",
       "      <td>323.0</td>\n",
       "      <td>413.0</td>\n",
       "      <td>NaN</td>\n",
       "    </tr>\n",
       "    <tr>\n",
       "      <th>46210</th>\n",
       "      <td>2020-12-29</td>\n",
       "      <td>PA</td>\n",
       "      <td>3939.0</td>\n",
       "      <td>1316.0</td>\n",
       "      <td>1171.0</td>\n",
       "      <td>NaN</td>\n",
       "    </tr>\n",
       "    <tr>\n",
       "      <th>46316</th>\n",
       "      <td>2020-12-28</td>\n",
       "      <td>DE</td>\n",
       "      <td>198.0</td>\n",
       "      <td>60.0</td>\n",
       "      <td>172.0</td>\n",
       "      <td>NaN</td>\n",
       "    </tr>\n",
       "    <tr>\n",
       "      <th>46358</th>\n",
       "      <td>2020-12-30</td>\n",
       "      <td>TX</td>\n",
       "      <td>7722.0</td>\n",
       "      <td>3151.0</td>\n",
       "      <td>311.0</td>\n",
       "      <td>NaN</td>\n",
       "    </tr>\n",
       "  </tbody>\n",
       "</table>\n",
       "<p>16446 rows × 6 columns</p>\n",
       "</div>"
      ],
      "text/plain": [
       "            date state  total_staffed_adult_icu_beds  \\\n",
       "0     2020-10-16    VI                          20.0   \n",
       "1     2020-10-15    VI                          20.0   \n",
       "2     2020-10-12    RI                         173.0   \n",
       "3     2020-10-11    VI                          20.0   \n",
       "4     2020-10-08    VI                          20.0   \n",
       "...          ...   ...                           ...   \n",
       "46140 2020-12-30    AR                        1047.0   \n",
       "46169 2020-12-28    AR                        1026.0   \n",
       "46210 2020-12-29    PA                        3939.0   \n",
       "46316 2020-12-28    DE                         198.0   \n",
       "46358 2020-12-30    TX                        7722.0   \n",
       "\n",
       "       staffed_icu_adult_patients_confirmed_covid  \\\n",
       "0                                             1.0   \n",
       "1                                             1.0   \n",
       "2                                            14.0   \n",
       "3                                             1.0   \n",
       "4                                             1.0   \n",
       "...                                           ...   \n",
       "46140                                       331.0   \n",
       "46169                                       323.0   \n",
       "46210                                      1316.0   \n",
       "46316                                        60.0   \n",
       "46358                                      3151.0   \n",
       "\n",
       "       total_staffed_pediatric_icu_beds  \\\n",
       "0                                   NaN   \n",
       "1                                   NaN   \n",
       "2                                   0.0   \n",
       "3                                   NaN   \n",
       "4                                   NaN   \n",
       "...                                 ...   \n",
       "46140                             415.0   \n",
       "46169                             413.0   \n",
       "46210                            1171.0   \n",
       "46316                             172.0   \n",
       "46358                             311.0   \n",
       "\n",
       "       staffed_icu_pediatric_patients_confirmed_covid  \n",
       "0                                                 NaN  \n",
       "1                                                 NaN  \n",
       "2                                                 0.0  \n",
       "3                                                 NaN  \n",
       "4                                                 NaN  \n",
       "...                                               ...  \n",
       "46140                                             NaN  \n",
       "46169                                             NaN  \n",
       "46210                                             NaN  \n",
       "46316                                             NaN  \n",
       "46358                                             NaN  \n",
       "\n",
       "[16446 rows x 6 columns]"
      ]
     },
     "execution_count": 120,
     "metadata": {},
     "output_type": "execute_result"
    }
   ],
   "source": [
    "icu_ocupacion = results_df[['date','state', 'total_staffed_adult_icu_beds','staffed_icu_adult_patients_confirmed_covid','total_staffed_pediatric_icu_beds','staffed_icu_pediatric_patients_confirmed_covid']]\n",
    "\n",
    "icu_ocupacion['total_staffed_adult_icu_beds'] = pd.to_numeric(icu_ocupacion['total_staffed_adult_icu_beds'])\n",
    "icu_ocupacion['staffed_icu_adult_patients_confirmed_covid'] = pd.to_numeric(icu_ocupacion['staffed_icu_adult_patients_confirmed_covid'])\n",
    "icu_ocupacion['total_staffed_pediatric_icu_beds'] = pd.to_numeric(icu_ocupacion['total_staffed_pediatric_icu_beds'])\n",
    "icu_ocupacion['staffed_icu_pediatric_patients_confirmed_covid'] = pd.to_numeric(icu_ocupacion['staffed_icu_pediatric_patients_confirmed_covid'])\n",
    "icu_ocupacion['date'] = pd.to_datetime(icu_ocupacion['date'])\n",
    "\n",
    "icu_ocupacion_2020 = icu_ocupacion.query(\"date >= '2020-01-01' and date <='2020-12-31'\")\n",
    "icu_ocupacion_2020\n",
    "\n",
    "#icu_ocupacion_2020 = icu_ocupacion.query(\"date >= '2020-01-01' and date <='2020-12-31'\")\n",
    "#icu_ocupacion_2020['%_camas_ICU_Adultos'] = icu_ocupacion_2020['staffed_icu_adult_patients_confirmed_covid'] / icu_ocupacion_2020['total_staffed_adult_icu_beds']"
   ]
  },
  {
   "cell_type": "code",
   "execution_count": 122,
   "metadata": {},
   "outputs": [
    {
     "name": "stderr",
     "output_type": "stream",
     "text": [
      "C:\\Users\\Public\\Documents\\Wondershare\\CreatorTemp\\ipykernel_2836\\1697635491.py:1: SettingWithCopyWarning: \n",
      "A value is trying to be set on a copy of a slice from a DataFrame.\n",
      "Try using .loc[row_indexer,col_indexer] = value instead\n",
      "\n",
      "See the caveats in the documentation: https://pandas.pydata.org/pandas-docs/stable/user_guide/indexing.html#returning-a-view-versus-a-copy\n",
      "  icu_ocupacion_2020['%_camas_ICU_Adultos'] = icu_ocupacion_2020['staffed_icu_adult_patients_confirmed_covid'] / icu_ocupacion_2020['total_staffed_adult_icu_beds']\n",
      "C:\\Users\\Public\\Documents\\Wondershare\\CreatorTemp\\ipykernel_2836\\1697635491.py:2: SettingWithCopyWarning: \n",
      "A value is trying to be set on a copy of a slice from a DataFrame.\n",
      "Try using .loc[row_indexer,col_indexer] = value instead\n",
      "\n",
      "See the caveats in the documentation: https://pandas.pydata.org/pandas-docs/stable/user_guide/indexing.html#returning-a-view-versus-a-copy\n",
      "  icu_ocupacion_2020['%_camas_ICU_Pediatrico'] = icu_ocupacion_2020['staffed_icu_pediatric_patients_confirmed_covid'] / icu_ocupacion_2020['total_staffed_pediatric_icu_beds']\n"
     ]
    },
    {
     "data": {
      "text/html": [
       "<div>\n",
       "<style scoped>\n",
       "    .dataframe tbody tr th:only-of-type {\n",
       "        vertical-align: middle;\n",
       "    }\n",
       "\n",
       "    .dataframe tbody tr th {\n",
       "        vertical-align: top;\n",
       "    }\n",
       "\n",
       "    .dataframe thead th {\n",
       "        text-align: right;\n",
       "    }\n",
       "</style>\n",
       "<table border=\"1\" class=\"dataframe\">\n",
       "  <thead>\n",
       "    <tr style=\"text-align: right;\">\n",
       "      <th></th>\n",
       "      <th>date</th>\n",
       "      <th>state</th>\n",
       "      <th>total_staffed_adult_icu_beds</th>\n",
       "      <th>staffed_icu_adult_patients_confirmed_covid</th>\n",
       "      <th>total_staffed_pediatric_icu_beds</th>\n",
       "      <th>staffed_icu_pediatric_patients_confirmed_covid</th>\n",
       "      <th>%_camas_ICU_Adultos</th>\n",
       "      <th>%_camas_ICU_Pediatrico</th>\n",
       "    </tr>\n",
       "  </thead>\n",
       "  <tbody>\n",
       "    <tr>\n",
       "      <th>0</th>\n",
       "      <td>2020-10-16</td>\n",
       "      <td>VI</td>\n",
       "      <td>20.0</td>\n",
       "      <td>1.0</td>\n",
       "      <td>NaN</td>\n",
       "      <td>NaN</td>\n",
       "      <td>0.050000</td>\n",
       "      <td>NaN</td>\n",
       "    </tr>\n",
       "    <tr>\n",
       "      <th>1</th>\n",
       "      <td>2020-10-15</td>\n",
       "      <td>VI</td>\n",
       "      <td>20.0</td>\n",
       "      <td>1.0</td>\n",
       "      <td>NaN</td>\n",
       "      <td>NaN</td>\n",
       "      <td>0.050000</td>\n",
       "      <td>NaN</td>\n",
       "    </tr>\n",
       "    <tr>\n",
       "      <th>2</th>\n",
       "      <td>2020-10-12</td>\n",
       "      <td>RI</td>\n",
       "      <td>173.0</td>\n",
       "      <td>14.0</td>\n",
       "      <td>0.0</td>\n",
       "      <td>0.0</td>\n",
       "      <td>0.080925</td>\n",
       "      <td>NaN</td>\n",
       "    </tr>\n",
       "    <tr>\n",
       "      <th>3</th>\n",
       "      <td>2020-10-11</td>\n",
       "      <td>VI</td>\n",
       "      <td>20.0</td>\n",
       "      <td>1.0</td>\n",
       "      <td>NaN</td>\n",
       "      <td>NaN</td>\n",
       "      <td>0.050000</td>\n",
       "      <td>NaN</td>\n",
       "    </tr>\n",
       "    <tr>\n",
       "      <th>4</th>\n",
       "      <td>2020-10-08</td>\n",
       "      <td>VI</td>\n",
       "      <td>20.0</td>\n",
       "      <td>1.0</td>\n",
       "      <td>NaN</td>\n",
       "      <td>NaN</td>\n",
       "      <td>0.050000</td>\n",
       "      <td>NaN</td>\n",
       "    </tr>\n",
       "  </tbody>\n",
       "</table>\n",
       "</div>"
      ],
      "text/plain": [
       "        date state  total_staffed_adult_icu_beds  \\\n",
       "0 2020-10-16    VI                          20.0   \n",
       "1 2020-10-15    VI                          20.0   \n",
       "2 2020-10-12    RI                         173.0   \n",
       "3 2020-10-11    VI                          20.0   \n",
       "4 2020-10-08    VI                          20.0   \n",
       "\n",
       "   staffed_icu_adult_patients_confirmed_covid  \\\n",
       "0                                         1.0   \n",
       "1                                         1.0   \n",
       "2                                        14.0   \n",
       "3                                         1.0   \n",
       "4                                         1.0   \n",
       "\n",
       "   total_staffed_pediatric_icu_beds  \\\n",
       "0                               NaN   \n",
       "1                               NaN   \n",
       "2                               0.0   \n",
       "3                               NaN   \n",
       "4                               NaN   \n",
       "\n",
       "   staffed_icu_pediatric_patients_confirmed_covid  %_camas_ICU_Adultos  \\\n",
       "0                                             NaN             0.050000   \n",
       "1                                             NaN             0.050000   \n",
       "2                                             0.0             0.080925   \n",
       "3                                             NaN             0.050000   \n",
       "4                                             NaN             0.050000   \n",
       "\n",
       "   %_camas_ICU_Pediatrico  \n",
       "0                     NaN  \n",
       "1                     NaN  \n",
       "2                     NaN  \n",
       "3                     NaN  \n",
       "4                     NaN  "
      ]
     },
     "execution_count": 122,
     "metadata": {},
     "output_type": "execute_result"
    }
   ],
   "source": [
    "icu_ocupacion_2020['%_camas_ICU_Adultos'] = icu_ocupacion_2020['staffed_icu_adult_patients_confirmed_covid'] / icu_ocupacion_2020['total_staffed_adult_icu_beds']\n",
    "icu_ocupacion_2020['%_camas_ICU_Pediatrico'] = icu_ocupacion_2020['staffed_icu_pediatric_patients_confirmed_covid'] / icu_ocupacion_2020['total_staffed_pediatric_icu_beds']\n",
    "icu_ocupacion_2020.head()"
   ]
  },
  {
   "cell_type": "code",
   "execution_count": 127,
   "metadata": {},
   "outputs": [
    {
     "data": {
      "text/plain": [
       "date                                                  0\n",
       "state                                                 0\n",
       "total_staffed_adult_icu_beds                       7003\n",
       "staffed_icu_adult_patients_confirmed_covid         6966\n",
       "total_staffed_pediatric_icu_beds                   7743\n",
       "staffed_icu_pediatric_patients_confirmed_covid    10394\n",
       "%_camas_ICU_Adultos                                7301\n",
       "%_camas_ICU_Pediatrico                            11366\n",
       "dtype: int64"
      ]
     },
     "execution_count": 127,
     "metadata": {},
     "output_type": "execute_result"
    }
   ],
   "source": [
    "#icu_ocupacion_2020.info()\n",
    "icu_ocupacion_2020.isnull().sum()"
   ]
  },
  {
   "cell_type": "markdown",
   "metadata": {},
   "source": [
    "punto 6"
   ]
  },
  {
   "cell_type": "code",
   "execution_count": 1,
   "metadata": {},
   "outputs": [
    {
     "ename": "NameError",
     "evalue": "name 'results_df' is not defined",
     "output_type": "error",
     "traceback": [
      "\u001b[1;31m---------------------------------------------------------------------------\u001b[0m",
      "\u001b[1;31mNameError\u001b[0m                                 Traceback (most recent call last)",
      "\u001b[1;32mc:\\Users\\tonym\\OneDrive\\Documentos\\Henry\\Data Science\\PI2\\Carlos_Matich2.ipynb Celda 30\u001b[0m in \u001b[0;36m<cell line: 1>\u001b[1;34m()\u001b[0m\n\u001b[1;32m----> <a href='vscode-notebook-cell:/c%3A/Users/tonym/OneDrive/Documentos/Henry/Data%20Science/PI2/Carlos_Matich2.ipynb#X41sZmlsZQ%3D%3D?line=0'>1</a>\u001b[0m muertes \u001b[39m=\u001b[39m results_df[[\u001b[39m'\u001b[39m\u001b[39mdate\u001b[39m\u001b[39m'\u001b[39m,\u001b[39m'\u001b[39m\u001b[39mstate\u001b[39m\u001b[39m'\u001b[39m,\u001b[39m'\u001b[39m\u001b[39mdeaths_covid\u001b[39m\u001b[39m'\u001b[39m]]\n\u001b[0;32m      <a href='vscode-notebook-cell:/c%3A/Users/tonym/OneDrive/Documentos/Henry/Data%20Science/PI2/Carlos_Matich2.ipynb#X41sZmlsZQ%3D%3D?line=1'>2</a>\u001b[0m muertes[\u001b[39m'\u001b[39m\u001b[39mdeaths_covid\u001b[39m\u001b[39m'\u001b[39m] \u001b[39m=\u001b[39m pd\u001b[39m.\u001b[39mto_numeric(muertes[\u001b[39m'\u001b[39m\u001b[39mdeaths_covid\u001b[39m\u001b[39m'\u001b[39m])\n\u001b[0;32m      <a href='vscode-notebook-cell:/c%3A/Users/tonym/OneDrive/Documentos/Henry/Data%20Science/PI2/Carlos_Matich2.ipynb#X41sZmlsZQ%3D%3D?line=2'>3</a>\u001b[0m muertes[\u001b[39m'\u001b[39m\u001b[39mdate\u001b[39m\u001b[39m'\u001b[39m] \u001b[39m=\u001b[39m pd\u001b[39m.\u001b[39mto_datetime(muertes[\u001b[39m'\u001b[39m\u001b[39mdate\u001b[39m\u001b[39m'\u001b[39m])\n",
      "\u001b[1;31mNameError\u001b[0m: name 'results_df' is not defined"
     ]
    }
   ],
   "source": [
    "muertes = results_df[['date','state','deaths_covid']]\n",
    "muertes['deaths_covid'] = pd.to_numeric(muertes['deaths_covid'])\n",
    "muertes['date'] = pd.to_datetime(muertes['date'])\n",
    "muertes_2021 = muertes.query(\"date >= '2021-01-01' and date <='2021-12-31'\")\n",
    "tabla_muertes_2021 = muertes_2021.groupby('state')['deaths_covid'].sum().sort_values(ascending=False)\n",
    "tabla_grafico = muertes_2021.groupby('state')['date','deaths_covid'].sum().sort_values(by='deaths_covid',ascending=False)\n",
    " \n",
    "x_muertes_2021 = tabla_grafico['date']\n",
    "y_muertes_2021 = tabla_grafico['deaths_covid']\n",
    "sns.set_theme(style=\"darkgrid\", context=\"talk\")\n",
    "sns.set(font_scale=1.5)\n",
    "gNY = sns.relplot(data=tabla_grafico, x='date',y='deaths_covid',\n",
    "                        hue='state',\n",
    "                        height= 8,\n",
    "                        aspect=2, kind='line')\n",
    "\n",
    "gNY.figure.autofmt_xdate(rotation=90)\n",
    "plt.xlabel('Estados', fontsize=16)\n",
    "plt.ylabel('Camas Ocupadas', fontsize=16)\n",
    "plt.title('Ocupación de camas por Estado durante el 2020', fontsize=20)\n",
    "plt.show();"
   ]
  },
  {
   "cell_type": "code",
   "execution_count": 134,
   "metadata": {},
   "outputs": [
    {
     "data": {
      "text/html": [
       "<div>\n",
       "<style scoped>\n",
       "    .dataframe tbody tr th:only-of-type {\n",
       "        vertical-align: middle;\n",
       "    }\n",
       "\n",
       "    .dataframe tbody tr th {\n",
       "        vertical-align: top;\n",
       "    }\n",
       "\n",
       "    .dataframe thead th {\n",
       "        text-align: right;\n",
       "    }\n",
       "</style>\n",
       "<table border=\"1\" class=\"dataframe\">\n",
       "  <thead>\n",
       "    <tr style=\"text-align: right;\">\n",
       "      <th></th>\n",
       "      <th>date</th>\n",
       "      <th>state</th>\n",
       "      <th>deaths_covid</th>\n",
       "    </tr>\n",
       "  </thead>\n",
       "  <tbody>\n",
       "    <tr>\n",
       "      <th>100</th>\n",
       "      <td>2021-12-29</td>\n",
       "      <td>AS</td>\n",
       "      <td>0.0</td>\n",
       "    </tr>\n",
       "    <tr>\n",
       "      <th>101</th>\n",
       "      <td>2021-12-29</td>\n",
       "      <td>WA</td>\n",
       "      <td>11.0</td>\n",
       "    </tr>\n",
       "    <tr>\n",
       "      <th>102</th>\n",
       "      <td>2021-12-26</td>\n",
       "      <td>AS</td>\n",
       "      <td>0.0</td>\n",
       "    </tr>\n",
       "    <tr>\n",
       "      <th>103</th>\n",
       "      <td>2021-12-21</td>\n",
       "      <td>DC</td>\n",
       "      <td>2.0</td>\n",
       "    </tr>\n",
       "    <tr>\n",
       "      <th>104</th>\n",
       "      <td>2021-12-20</td>\n",
       "      <td>MT</td>\n",
       "      <td>7.0</td>\n",
       "    </tr>\n",
       "    <tr>\n",
       "      <th>...</th>\n",
       "      <td>...</td>\n",
       "      <td>...</td>\n",
       "      <td>...</td>\n",
       "    </tr>\n",
       "    <tr>\n",
       "      <th>46601</th>\n",
       "      <td>2021-02-14</td>\n",
       "      <td>UT</td>\n",
       "      <td>1.0</td>\n",
       "    </tr>\n",
       "    <tr>\n",
       "      <th>46602</th>\n",
       "      <td>2021-02-05</td>\n",
       "      <td>ME</td>\n",
       "      <td>2.0</td>\n",
       "    </tr>\n",
       "    <tr>\n",
       "      <th>46605</th>\n",
       "      <td>2021-01-02</td>\n",
       "      <td>LA</td>\n",
       "      <td>23.0</td>\n",
       "    </tr>\n",
       "    <tr>\n",
       "      <th>46608</th>\n",
       "      <td>2021-02-22</td>\n",
       "      <td>MO</td>\n",
       "      <td>12.0</td>\n",
       "    </tr>\n",
       "    <tr>\n",
       "      <th>46611</th>\n",
       "      <td>2021-01-19</td>\n",
       "      <td>ME</td>\n",
       "      <td>3.0</td>\n",
       "    </tr>\n",
       "  </tbody>\n",
       "</table>\n",
       "<p>19475 rows × 3 columns</p>\n",
       "</div>"
      ],
      "text/plain": [
       "            date state  deaths_covid\n",
       "100   2021-12-29    AS           0.0\n",
       "101   2021-12-29    WA          11.0\n",
       "102   2021-12-26    AS           0.0\n",
       "103   2021-12-21    DC           2.0\n",
       "104   2021-12-20    MT           7.0\n",
       "...          ...   ...           ...\n",
       "46601 2021-02-14    UT           1.0\n",
       "46602 2021-02-05    ME           2.0\n",
       "46605 2021-01-02    LA          23.0\n",
       "46608 2021-02-22    MO          12.0\n",
       "46611 2021-01-19    ME           3.0\n",
       "\n",
       "[19475 rows x 3 columns]"
      ]
     },
     "execution_count": 134,
     "metadata": {},
     "output_type": "execute_result"
    }
   ],
   "source": [
    "muertes_2021"
   ]
  },
  {
   "cell_type": "code",
   "execution_count": 135,
   "metadata": {},
   "outputs": [
    {
     "data": {
      "text/html": [
       "        <script type=\"text/javascript\">\n",
       "        window.PlotlyConfig = {MathJaxConfig: 'local'};\n",
       "        if (window.MathJax && window.MathJax.Hub && window.MathJax.Hub.Config) {window.MathJax.Hub.Config({SVG: {font: \"STIX-Web\"}});}\n",
       "        if (typeof require !== 'undefined') {\n",
       "        require.undef(\"plotly\");\n",
       "        requirejs.config({\n",
       "            paths: {\n",
       "                'plotly': ['https://cdn.plot.ly/plotly-2.12.1.min']\n",
       "            }\n",
       "        });\n",
       "        require(['plotly'], function(Plotly) {\n",
       "            window._Plotly = Plotly;\n",
       "        });\n",
       "        }\n",
       "        </script>\n",
       "        "
      ]
     },
     "metadata": {},
     "output_type": "display_data"
    }
   ],
   "source": [
    "import cufflinks as cf\n",
    "from IPython.display import display, HTML\n",
    "\n",
    "cf.set_config_file(sharing='public', theme='space', offline=True)\n",
    "#df_covid = i.df_covid"
   ]
  },
  {
   "cell_type": "code",
   "execution_count": 136,
   "metadata": {},
   "outputs": [
    {
     "data": {
      "text/plain": [
       "['ggplot', 'pearl', 'solar', 'space', 'white', 'polar', 'henanigans']"
      ]
     },
     "execution_count": 136,
     "metadata": {},
     "output_type": "execute_result"
    }
   ],
   "source": [
    "cf.getThemes()"
   ]
  },
  {
   "cell_type": "code",
   "execution_count": null,
   "metadata": {},
   "outputs": [],
   "source": []
  },
  {
   "cell_type": "markdown",
   "metadata": {},
   "source": [
    "Punto 7"
   ]
  },
  {
   "cell_type": "code",
   "execution_count": null,
   "metadata": {},
   "outputs": [],
   "source": []
  }
 ],
 "metadata": {
  "kernelspec": {
   "display_name": "Python 3.9.6 64-bit",
   "language": "python",
   "name": "python3"
  },
  "language_info": {
   "codemirror_mode": {
    "name": "ipython",
    "version": 3
   },
   "file_extension": ".py",
   "mimetype": "text/x-python",
   "name": "python",
   "nbconvert_exporter": "python",
   "pygments_lexer": "ipython3",
   "version": "3.9.6"
  },
  "orig_nbformat": 4,
  "vscode": {
   "interpreter": {
    "hash": "81794d4967e6c3204c66dcd87b604927b115b27c00565d3d43f05ba2f3a2cb0d"
   }
  }
 },
 "nbformat": 4,
 "nbformat_minor": 2
}
