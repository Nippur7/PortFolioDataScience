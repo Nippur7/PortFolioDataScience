{
 "cells": [
  {
   "cell_type": "code",
   "execution_count": 7,
   "metadata": {},
   "outputs": [
    {
     "name": "stdout",
     "output_type": "stream",
     "text": [
      "El hombr#, es la articulación del braz#\n"
     ]
    }
   ],
   "source": [
    "frase = 'El hombro, es la articulación del brazo'\n",
    "palabras = frase.split()\n",
    "nueva_palabra = \"\"\n",
    "reemplazo = '#'\n",
    "traduccion = []\n",
    "\n",
    "for palabra in palabras:\n",
    "    if palabra[-1:] == 'o':\n",
    "        nueva_palabra = palabra[:-1] + reemplazo\n",
    "    elif len(palabra) > 1 and palabra[-2] == \"o\": # si tiene mas de 1 letra, busco la palabra en -2 para evitar errores si hay palabras de una sola letra. en Python evalua la primera y si es falsa, deja de evaluar (lazy evaluation).\n",
    "        nueva_palabra = palabra[:-2] + reemplazo + palabra[-1]\n",
    "    else:\n",
    "        nueva_palabra = palabra\n",
    "    traduccion.append(nueva_palabra)\n",
    "#print(palabra, nueva_palabra)\n",
    "\n",
    "    frase_t = \" \".join(traduccion)\n",
    "\n",
    "print(frase_t)"
   ]
  }
 ],
 "metadata": {
  "kernelspec": {
   "display_name": "Python 3.9.6 64-bit",
   "language": "python",
   "name": "python3"
  },
  "language_info": {
   "codemirror_mode": {
    "name": "ipython",
    "version": 3
   },
   "file_extension": ".py",
   "mimetype": "text/x-python",
   "name": "python",
   "nbconvert_exporter": "python",
   "pygments_lexer": "ipython3",
   "version": "3.9.6"
  },
  "orig_nbformat": 4,
  "vscode": {
   "interpreter": {
    "hash": "81794d4967e6c3204c66dcd87b604927b115b27c00565d3d43f05ba2f3a2cb0d"
   }
  }
 },
 "nbformat": 4,
 "nbformat_minor": 2
}
